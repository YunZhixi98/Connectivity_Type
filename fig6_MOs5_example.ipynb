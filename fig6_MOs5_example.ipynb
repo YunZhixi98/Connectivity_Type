{
 "cells": [
  {
   "cell_type": "code",
   "execution_count": 67,
   "id": "abcdfe18-435f-4693-8f67-61a3a5b30faa",
   "metadata": {},
   "outputs": [],
   "source": [
    "import pandas as pd\n",
    "import numpy as np\n",
    "import os\n",
    "import matplotlib.pyplot as plt\n",
    "import seaborn as sns\n",
    "from collections import Counter\n",
    "import random\n",
    "import json\n",
    "from scipy.stats import pearsonr\n",
    "import SimpleITK as sitk\n"
   ]
  },
  {
   "cell_type": "code",
   "execution_count": 68,
   "id": "825fe8b2-8325-4e53-aa02-e365dcbdb135",
   "metadata": {},
   "outputs": [],
   "source": [
    "with open(r\"E:\\ZhixiYun\\Projects\\Neuron_Morphology_Table\\Tables\\tree.json\") as f:\n",
    "    tree = json.load(f)\n",
    "    \n",
    "def ct_ccf_sort(ctlist):\n",
    "    ctlist = [x.replace(\"23\",\"2/3\") for x in ctlist]\n",
    "    select_ct_sorted = []\n",
    "    for item in tree:\n",
    "        if item[\"acronym\"] in ctlist:\n",
    "            select_ct_sorted.append(item[\"acronym\"])\n",
    "    return select_ct_sorted"
   ]
  },
  {
   "cell_type": "code",
   "execution_count": 69,
   "id": "dd83208f-129f-4f6d-94e6-7bf3cbd48127",
   "metadata": {},
   "outputs": [
    {
     "data": {
      "text/html": [
       "<div>\n",
       "<style scoped>\n",
       "    .dataframe tbody tr th:only-of-type {\n",
       "        vertical-align: middle;\n",
       "    }\n",
       "\n",
       "    .dataframe tbody tr th {\n",
       "        vertical-align: top;\n",
       "    }\n",
       "\n",
       "    .dataframe thead th {\n",
       "        text-align: right;\n",
       "    }\n",
       "</style>\n",
       "<table border=\"1\" class=\"dataframe\">\n",
       "  <thead>\n",
       "    <tr style=\"text-align: right;\">\n",
       "      <th></th>\n",
       "      <th>x</th>\n",
       "      <th>y</th>\n",
       "      <th>z</th>\n",
       "    </tr>\n",
       "  </thead>\n",
       "  <tbody>\n",
       "    <tr>\n",
       "      <th>17109_1701_x8048_y22277.swc</th>\n",
       "      <td>108.920000</td>\n",
       "      <td>148.804000</td>\n",
       "      <td>151.962000</td>\n",
       "    </tr>\n",
       "    <tr>\n",
       "      <th>17109_1801_x6698_y12550.swc</th>\n",
       "      <td>113.636000</td>\n",
       "      <td>136.714000</td>\n",
       "      <td>154.727000</td>\n",
       "    </tr>\n",
       "    <tr>\n",
       "      <th>17109_1901_x9602_y10508.swc</th>\n",
       "      <td>123.004000</td>\n",
       "      <td>183.974000</td>\n",
       "      <td>122.068000</td>\n",
       "    </tr>\n",
       "    <tr>\n",
       "      <th>17109_2201_x8046_y23301.swc</th>\n",
       "      <td>129.235000</td>\n",
       "      <td>142.621000</td>\n",
       "      <td>135.341000</td>\n",
       "    </tr>\n",
       "    <tr>\n",
       "      <th>17109_2301_x8535_y23051.swc</th>\n",
       "      <td>133.308000</td>\n",
       "      <td>151.149000</td>\n",
       "      <td>137.958000</td>\n",
       "    </tr>\n",
       "    <tr>\n",
       "      <th>...</th>\n",
       "      <td>...</td>\n",
       "      <td>...</td>\n",
       "      <td>...</td>\n",
       "    </tr>\n",
       "    <tr>\n",
       "      <th>201787_044_reg.swc</th>\n",
       "      <td>120.318486</td>\n",
       "      <td>128.302793</td>\n",
       "      <td>219.684775</td>\n",
       "    </tr>\n",
       "    <tr>\n",
       "      <th>201787_045_reg.swc</th>\n",
       "      <td>118.910440</td>\n",
       "      <td>116.284689</td>\n",
       "      <td>217.566681</td>\n",
       "    </tr>\n",
       "    <tr>\n",
       "      <th>201787_048_reg.swc</th>\n",
       "      <td>121.453392</td>\n",
       "      <td>113.448196</td>\n",
       "      <td>217.670578</td>\n",
       "    </tr>\n",
       "    <tr>\n",
       "      <th>201787_050_reg.swc</th>\n",
       "      <td>135.528418</td>\n",
       "      <td>125.900020</td>\n",
       "      <td>213.173718</td>\n",
       "    </tr>\n",
       "    <tr>\n",
       "      <th>201787_053_reg.swc</th>\n",
       "      <td>132.820071</td>\n",
       "      <td>98.975749</td>\n",
       "      <td>195.627937</td>\n",
       "    </tr>\n",
       "  </tbody>\n",
       "</table>\n",
       "<p>9298 rows × 3 columns</p>\n",
       "</div>"
      ],
      "text/plain": [
       "                                      x           y           z\n",
       "17109_1701_x8048_y22277.swc  108.920000  148.804000  151.962000\n",
       "17109_1801_x6698_y12550.swc  113.636000  136.714000  154.727000\n",
       "17109_1901_x9602_y10508.swc  123.004000  183.974000  122.068000\n",
       "17109_2201_x8046_y23301.swc  129.235000  142.621000  135.341000\n",
       "17109_2301_x8535_y23051.swc  133.308000  151.149000  137.958000\n",
       "...                                 ...         ...         ...\n",
       "201787_044_reg.swc           120.318486  128.302793  219.684775\n",
       "201787_045_reg.swc           118.910440  116.284689  217.566681\n",
       "201787_048_reg.swc           121.453392  113.448196  217.670578\n",
       "201787_050_reg.swc           135.528418  125.900020  213.173718\n",
       "201787_053_reg.swc           132.820071   98.975749  195.627937\n",
       "\n",
       "[9298 rows x 3 columns]"
      ]
     },
     "execution_count": 69,
     "metadata": {},
     "output_type": "execute_result"
    }
   ],
   "source": [
    "used_cols = [\"Center Shift\",\"Relative Center Shift\",\n",
    "         \"Average Contraction\",  \"Average Bifurcation Angle Remote\",\"Average Bifurcation Angle Local\",\n",
    "         \"Max Branch Order\",\"Number of Bifurcations\",\"Total Length\",\n",
    "         \"Max Euclidean Distance\",\"Max Path Distance\",\"Average Euclidean Distance\",\"25% Euclidean Distance\",\n",
    "         \"50% Euclidean Distance\",\"75% Euclidean Distance\", \"Average Path Distance\",\"25% Path Distance\",\"50% Path Distance\",\"75% Path Distance\",       \n",
    "         '2D Density', '3D Density',\n",
    "         'Area', 'Volume', 'Width',  'Width_95','Height', 'Height_95', 'Depth', 'Depth_95', \n",
    "         'Slimness', 'Slimness_95', 'Flatness', 'Flatness_95']\n",
    "\n",
    "material_path = r\"E:\\ZhixiYun\\Projects\\Neuron_Morphology_Table\\Materials\"\n",
    "df_ct = pd.concat([pd.read_csv(os.path.join(material_path,\"cell_type/s_type\",\"AIBS+SEU-ALLEN_Full_1741.csv\"), index_col=0), \n",
    "                   pd.read_csv(os.path.join(material_path,\"cell_type/s_type\",\"MouseLight_Full_1200.csv\"), index_col=0), \n",
    "                   pd.read_csv(os.path.join(material_path,\"cell_type/s_type\",\"ION_Axon_6357.csv\"), index_col=0)\n",
    "                  ])\n",
    "df_ct.index = [x.replace('.semi_r','').replace('.auto_r','').replace('.semi_f','') for x in df_ct.index]\n",
    "\n",
    "\n",
    "df_axon = pd.read_csv(os.path.join(material_path, 'morphology_feature/', 'Axon_Morphological_Features.csv'),index_col=0)\n",
    "df_axon.index = [x.replace('.semi_r','').replace('.auto_r','').replace('.semi_f','') for x in df_axon.index]\n",
    "\n",
    "df_axon = df_axon[used_cols]\n",
    "\n",
    "df_den = pd.read_csv(os.path.join(material_path, 'morphology_feature/', 'Dendrite_Morphological_Features.csv'),index_col=0)\n",
    "df_den = df_den[~df_den.index.str.contains('^Img')]\n",
    "df_den.index = [x.replace('.semi_r','').replace('.auto_r','').replace('.semi_f','') for x in df_den.index]\n",
    "\n",
    "df_den.dropna(inplace=True)\n",
    "df_den = df_den[used_cols]\n",
    "\n",
    "# soma position\n",
    "df_subtype = pd.read_csv(os.path.join(material_path, 'cell_type/c_type','ctype_unmirrored.csv'),index_col=0)\n",
    "anno = sitk.GetArrayFromImage(sitk.ReadImage(\n",
    "    r\"E:\\ZhixiYun\\Projects\\GitHub\\vaa3d_tools\\hackathon\\mBrainAligner\\src\\src_othertools\\process\\annotation_25.nrrd\"))\n",
    "\n",
    "\n",
    "sl_1741 = pd.read_csv(os.path.join(material_path, 'soma_location', '1741_Soma_Location.csv'),index_col=0)\n",
    "sl_1002 = pd.read_csv(os.path.join(material_path, 'soma_location', 'MouseLight_Soma_Location.csv'),index_col=0).iloc[:]\n",
    "sl_ION = pd.read_csv(os.path.join(material_path, 'soma_location', 'ION_Soma_Location.csv'),index_col=0)\n",
    "df_sl = pd.concat([sl_1741, sl_1002, sl_ION])\n",
    "df_sl.index = [x.replace('.semi_r','').replace('.auto_r','').replace('.semi_f','') for x in df_sl.index]\n",
    "df_sl.dropna(inplace=True)\n",
    "\n",
    "df_sl"
   ]
  },
  {
   "cell_type": "code",
   "execution_count": 70,
   "id": "5e182e22-5989-4771-88fd-8f88c00464ae",
   "metadata": {},
   "outputs": [
    {
     "name": "stdout",
     "output_type": "stream",
     "text": [
      "['FRP5', 'MOs2/3', 'MOs5', 'MOs6a', 'SSp5', 'ACAd2/3', 'ACAd5', 'ACAd6a', 'ACAv2/3', 'ACAv5', 'PL2/3', 'PL5', 'PL6a', 'ILA5', 'ORBl2/3', 'ORBl5', 'ORBm2/3', 'ORBm5', 'ORBvl1', 'ORBvl2/3', 'ORBvl5', 'ORBvl6a', 'AId2/3', 'AId5', 'AIv2/3', 'AIv5', 'SUB', 'CP', 'VPL', 'VPM', 'LGd']\n",
      "[['FRP5_4', 'FRP5_5', 'FRP5_6'], ['MOs2/3_1', 'MOs2/3_2', 'MOs2/3_3'], ['MOs5_1', 'MOs5_2', 'MOs5_3'], ['MOs6a_1', 'MOs6a_2', 'MOs6a_3', 'MOs6a_4', 'MOs6a_5'], ['SSp5_1', 'SSp5_2', 'SSp5_3', 'SSp5_5'], ['ACAd2/3_1', 'ACAd2/3_2', 'ACAd2/3_3'], ['ACAd5_1', 'ACAd5_2', 'ACAd5_3'], ['ACAd6a_1', 'ACAd6a_2', 'ACAd6a_3'], ['ACAv2/3_1', 'ACAv2/3_2', 'ACAv2/3_3', 'ACAv2/3_4'], ['ACAv5_1', 'ACAv5_2', 'ACAv5_3', 'ACAv5_4'], ['PL2/3_1', 'PL2/3_2', 'PL2/3_3'], ['PL5_1', 'PL5_2', 'PL5_3'], ['PL6a_1', 'PL6a_3', 'PL6a_4'], ['ILA5_1', 'ILA5_2', 'ILA5_3'], ['ORBl2/3_1', 'ORBl2/3_2', 'ORBl2/3_3'], ['ORBl5_1', 'ORBl5_2', 'ORBl5_3', 'ORBl5_4'], ['ORBm2/3_1', 'ORBm2/3_3'], ['ORBm5_1', 'ORBm5_2', 'ORBm5_3', 'ORBm5_4', 'ORBm5_5'], ['ORBvl1_1', 'ORBvl1_2', 'ORBvl1_3'], ['ORBvl2/3_1', 'ORBvl2/3_2', 'ORBvl2/3_3'], ['ORBvl5_1', 'ORBvl5_2', 'ORBvl5_3'], ['ORBvl6a_2', 'ORBvl6a_3', 'ORBvl6a_4'], ['AId2/3_1', 'AId2/3_2', 'AId2/3_3'], ['AId5_1', 'AId5_2', 'AId5_3', 'AId5_4', 'AId5_5'], ['AIv2/3_1', 'AIv2/3_2', 'AIv2/3_3', 'AIv2/3_4'], ['AIv5_1', 'AIv5_3', 'AIv5_4', 'AIv5_5'], ['SUB_1', 'SUB_2', 'SUB_4', 'SUB_6', 'SUB_7'], ['CP_1', 'CP_2', 'CP_3'], ['VPL_1', 'VPL_3', 'VPL_4', 'VPL_5'], ['VPM_1', 'VPM_2', 'VPM_3'], ['LGd_1', 'LGd_2', 'LGd_3', 'LGd_6']]\n"
     ]
    }
   ],
   "source": [
    "tmpdf = df_subtype['detail ctype'].value_counts()\n",
    "ctlist = np.unique([x.split('_')[0] for x in tmpdf[tmpdf>=2].index])\n",
    "ctlist = ct_ccf_sort(ctlist)\n",
    "subtlist = []\n",
    "indice = []\n",
    "for i,ct in enumerate(ctlist):\n",
    "    tmpdf = df_subtype[df_subtype['detail ctype'].str.contains('^'+ct+'_')]['detail ctype']\n",
    "    # if len(tmpdf)<2: continue\n",
    "    tmpseries = tmpdf.value_counts()\n",
    "    tmplist = list(np.unique(tmpseries[tmpseries>=10].index))\n",
    "    if len(tmplist)<2: continue\n",
    "    subtlist.append(tmplist)\n",
    "    indice.append(i)\n",
    "ctlist = np.array(ctlist)[np.array(indice)].tolist()\n",
    "print(ctlist)\n",
    "print(subtlist)"
   ]
  },
  {
   "cell_type": "code",
   "execution_count": 51,
   "id": "73320710-8c10-4a8e-a863-3769345eae79",
   "metadata": {},
   "outputs": [
    {
     "name": "stdout",
     "output_type": "stream",
     "text": [
      "MOs5_3    190\n",
      "MOs5_2    143\n",
      "MOs5_1    128\n",
      "Name: subtype, dtype: int64\n"
     ]
    },
    {
     "data": {
      "image/png": "[encoded data removed]",
      "text/plain": [
       "<Figure size 864x144 with 6 Axes>"
      ]
     },
     "metadata": {
      "needs_background": "light"
     },
     "output_type": "display_data"
    }
   ],
   "source": [
    "ct = 'MOs5'\n",
    "\n",
    "tmpdf1 = df_axon.loc[df_subtype[df_subtype['detail ctype'].str.contains('^'+ct+'_')].index]\n",
    "tmpdf1['subtype'] = df_subtype.loc[tmpdf1.index]['detail ctype']\n",
    "print(tmpdf1.subtype.value_counts())\n",
    "\n",
    "tmparr = tmpdf1.values[:,:-1].copy()\n",
    "tmpdf1_seq = pd.DataFrame(tmparr.reshape(-1).T.astype(np.float32),columns=['value'])\n",
    "tmpdf1_seq['feature'] = list(tmpdf1.columns[:-1])*len(tmpdf1)\n",
    "tmpdf1_seq['c-type'] = np.array([tmpdf1.values[:,-1].reshape(-1).tolist()]*32).T.reshape(-1)\n",
    "\n",
    "selected_features = [\"Relative Center Shift\",\n",
    "         \"Average Contraction\", \n",
    "         \"Number of Bifurcations\",\n",
    "         \"Max Euclidean Distance\", \n",
    "         'Area', 'Width']\n",
    "tmpdf1_seq = tmpdf1_seq[tmpdf1_seq['feature'].isin(selected_features)]\n",
    "tmpdf1_seq = tmpdf1_seq.reset_index(drop=True)\n",
    "\n",
    "fig,axs=plt.subplots(1,len(selected_features),figsize=(12,2))\n",
    "for i in range(len(selected_features)):\n",
    "    fn = selected_features[i]\n",
    "    ax=axs[i]\n",
    "    g=sns.boxplot(data=tmpdf1_seq[tmpdf1_seq['feature']==fn],x='feature',y='value',hue='c-type',palette='Set1',hue_order=('MOs5_1','MOs5_2','MOs5_3'),ax=axs[i])\n",
    "    ax.legend_.set_visible(False)\n",
    "    ax.set_title(fn)\n",
    "    ax.spines['right'].set_visible(False)\n",
    "    ax.spines['top'].set_visible(False)\n",
    "    ax.set_xticks([])\n",
    "    ax.set_xlabel('')\n",
    "    ax.set_ylabel('')\n",
    "fig.tight_layout()\n",
    "# fig.suptitle('axon feature',y=1.05)\n",
    "plt.savefig(r'./fig6\\MOs5_ctype_axon_feature_boxplot.svg',dpi=300,\n",
    "                                           bbox_inches='tight',facecolor=\"white\")\n",
    "plt.show()"
   ]
  },
  {
   "cell_type": "code",
   "execution_count": null,
   "id": "6aabb19e-b19c-4f97-89fd-66419f6fece9",
   "metadata": {},
   "outputs": [],
   "source": []
  },
  {
   "cell_type": "code",
   "execution_count": 55,
   "id": "5ad73cb6-6d95-45ac-8f2a-4d621306ebda",
   "metadata": {},
   "outputs": [
    {
     "name": "stdout",
     "output_type": "stream",
     "text": [
      "['MOs2/3', 'MOs5', 'MOs6a', 'SSp5', 'ACAd2/3', 'ACAd5', 'ACAd6a', 'ACAv2/3', 'ACAv5', 'ORBl5', 'ORBvl6a', 'SUB', 'CP', 'VPL', 'VPM', 'LGd']\n",
      "[['MOs2/3_1', 'MOs2/3_2', 'MOs2/3_3'], ['MOs5_1', 'MOs5_2', 'MOs5_3'], ['MOs6a_1', 'MOs6a_2', 'MOs6a_3', 'MOs6a_4', 'MOs6a_5'], ['SSp5_1', 'SSp5_2', 'SSp5_3', 'SSp5_4', 'SSp5_5'], ['ACAd2/3_1', 'ACAd2/3_2', 'ACAd2/3_3'], ['ACAd5_1', 'ACAd5_2', 'ACAd5_3'], ['ACAd6a_1', 'ACAd6a_2', 'ACAd6a_3'], ['ACAv2/3_1', 'ACAv2/3_3'], ['ACAv5_1', 'ACAv5_4'], ['ORBl5_2', 'ORBl5_4'], ['ORBvl6a_1', 'ORBvl6a_2'], ['SUB_1', 'SUB_2', 'SUB_3', 'SUB_4', 'SUB_5', 'SUB_6', 'SUB_7'], ['CP_1', 'CP_2', 'CP_3'], ['VPL_1', 'VPL_2', 'VPL_3', 'VPL_4', 'VPL_5'], ['VPM_1', 'VPM_2', 'VPM_3'], ['LGd_1', 'LGd_2', 'LGd_3', 'LGd_4', 'LGd_5', 'LGd_6']]\n"
     ]
    }
   ],
   "source": [
    "common_neuron = np.intersect1d(df_subtype.index, df_den.index)\n",
    "\n",
    "tmpdf = df_subtype.loc[common_neuron]['detail ctype'].value_counts()\n",
    "ctlist = np.unique([x.split('_')[0] for x in tmpdf[tmpdf>=2].index])\n",
    "ctlist = ct_ccf_sort(ctlist)\n",
    "subtlist = []\n",
    "indice = []\n",
    "for i,ct in enumerate(ctlist):\n",
    "    tmpdf = df_subtype.loc[common_neuron][df_subtype.loc[common_neuron]['detail ctype'].str.contains('^'+ct+'_')]['detail ctype']\n",
    "    # if len(tmpdf)<2: continue\n",
    "    tmpseries = tmpdf.value_counts()\n",
    "    tmplist = list(np.unique(tmpseries[tmpseries>=0].index))\n",
    "    if len(tmplist)<2: continue\n",
    "    # print(tmpseries)\n",
    "    subtlist.append(tmplist)\n",
    "    indice.append(i)\n",
    "ctlist = np.array(ctlist)[np.array(indice)].tolist()\n",
    "print(ctlist)\n",
    "print(subtlist)"
   ]
  },
  {
   "cell_type": "code",
   "execution_count": 56,
   "id": "6a64e981-99a8-4e69-930c-62e2bf37e28b",
   "metadata": {},
   "outputs": [
    {
     "name": "stdout",
     "output_type": "stream",
     "text": [
      "MOs5_3    69\n",
      "MOs5_2    58\n",
      "MOs5_1    35\n",
      "Name: subtype, dtype: int64\n"
     ]
    },
    {
     "name": "stderr",
     "output_type": "stream",
     "text": [
      "D:\\anaconda3\\envs\\yzx\\lib\\site-packages\\ipykernel_launcher.py:28: UserWarning: FixedFormatter should only be used together with FixedLocator\n"
     ]
    },
    {
     "data": {
      "image/png": "[encoded data removed]",
      "text/plain": [
       "<Figure size 864x144 with 6 Axes>"
      ]
     },
     "metadata": {
      "needs_background": "light"
     },
     "output_type": "display_data"
    }
   ],
   "source": [
    "ct = 'MOs5'\n",
    "\n",
    "tmpdf1 = df_den.loc[np.intersect1d(common_neuron, df_subtype.index[df_subtype['detail ctype'].str.contains('^'+ct+'_')])]\n",
    "tmpdf1['subtype'] = df_subtype.loc[tmpdf1.index]['detail ctype']\n",
    "print(tmpdf1.subtype.value_counts())\n",
    "\n",
    "tmparr = tmpdf1.values[:,:-1].copy()\n",
    "tmpdf1_seq = pd.DataFrame(tmparr.reshape(-1).T.astype(np.float32),columns=['value'])\n",
    "tmpdf1_seq['feature'] = list(tmpdf1.columns[:-1])*len(tmpdf1)\n",
    "tmpdf1_seq['c-type'] = np.array([tmpdf1.values[:,-1].reshape(-1).tolist()]*32).T.reshape(-1)\n",
    "\n",
    "fig,axs=plt.subplots(1,len(selected_features),figsize=(12,2))\n",
    "for i in range(len(selected_features)):\n",
    "    fn = selected_features[i]\n",
    "    ax=axs[i]\n",
    "    if fn=='Number of Bifurcations':\n",
    "        g=sns.boxplot(data=tmpdf1_seq[(tmpdf1_seq['feature']==fn)&(tmpdf1_seq['value']<=200)],x='feature',y='value',hue='c-type',palette='Set1',hue_order=('MOs5_1','MOs5_2','MOs5_3'),ax=axs[i])\n",
    "    else:\n",
    "        g=sns.boxplot(data=tmpdf1_seq[(tmpdf1_seq['feature']==fn)],x='feature',y='value',hue='c-type',palette='Set1',hue_order=('MOs5_1','MOs5_2','MOs5_3'),ax=axs[i])\n",
    "    ax.legend_.set_visible(False)\n",
    "    ax.set_title(fn)\n",
    "    ax.spines['right'].set_visible(False)\n",
    "    ax.spines['top'].set_visible(False)\n",
    "    ax.set_xticks([])\n",
    "    ax.set_xlabel('')\n",
    "    ax.set_ylabel('')\n",
    "    if fn == 'Area':\n",
    "        ax.set_yticklabels(['0','2E+5','4E+5','6E+5'])\n",
    "    \n",
    "fig.tight_layout()\n",
    "# fig.suptitle('dendrite feature',y=1.05)\n",
    "plt.savefig(r'.\\fig6\\MOs5_ctype_den_feature_boxplot.svg',dpi=300,\n",
    "                                           bbox_inches='tight',facecolor=\"white\")\n",
    "plt.show()"
   ]
  },
  {
   "cell_type": "code",
   "execution_count": 72,
   "id": "920c0ca9-84e0-4035-8404-28c3dcfa48e2",
   "metadata": {},
   "outputs": [
    {
     "name": "stdout",
     "output_type": "stream",
     "text": [
      "1480\n"
     ]
    }
   ],
   "source": [
    "overlap_swcname = np.intersect1d(df_den.index,df_axon.index)\n",
    "overlap_swcname = np.intersect1d(overlap_swcname,df_subtype.index)\n",
    "df_den = df_den.loc[overlap_swcname]\n",
    "df_axon = df_axon.loc[overlap_swcname]\n",
    "df_subtype = df_subtype.loc[overlap_swcname]\n",
    "print(len(overlap_swcname))"
   ]
  },
  {
   "cell_type": "code",
   "execution_count": null,
   "id": "784370ee-ee46-4e11-bfab-9a4f3e290f19",
   "metadata": {},
   "outputs": [],
   "source": []
  },
  {
   "cell_type": "code",
   "execution_count": 73,
   "id": "e5510bf6-2225-4f0e-ac8d-e1915d67ba2d",
   "metadata": {},
   "outputs": [
    {
     "name": "stdout",
     "output_type": "stream",
     "text": [
      "['MOs2/3', 'MOs5', 'SSp5', 'CP', 'VPL', 'VPM']\n",
      "[['MOs2/3_1', 'MOs2/3_2'], ['MOs5_1', 'MOs5_2', 'MOs5_3'], ['SSp5_1', 'SSp5_2', 'SSp5_3', 'SSp5_5'], ['CP_1', 'CP_2', 'CP_3'], ['VPL_1', 'VPL_3', 'VPL_5'], ['VPM_1', 'VPM_2', 'VPM_3']]\n"
     ]
    }
   ],
   "source": [
    "# ctlist = ['MOs5','LGd','VPM']\n",
    "tmpdf = df_subtype['detail ctype'].value_counts()\n",
    "ctlist = np.unique([x.split('_')[0] for x in tmpdf[tmpdf>=2].index])\n",
    "ctlist = ct_ccf_sort(ctlist)\n",
    "subtlist = []\n",
    "indice = []\n",
    "for i,ct in enumerate(ctlist):\n",
    "    tmpdf = df_subtype[df_subtype['detail ctype'].str.contains('^'+ct+'_')]['detail ctype']\n",
    "    # if len(tmpdf)<2: continue\n",
    "    tmpseries = tmpdf.value_counts()\n",
    "    tmplist = list(np.unique(tmpseries[tmpseries>=20].index))\n",
    "    if len(tmplist)<2: continue\n",
    "    subtlist.append(tmplist)\n",
    "    indice.append(i)\n",
    "ctlist = np.array(ctlist)[np.array(indice)].tolist()\n",
    "print(ctlist)\n",
    "print(subtlist)\n",
    "\n",
    "from scipy.stats import pearsonr\n",
    "ct_corr = []\n",
    "for ct in ctlist:\n",
    "    corr = []\n",
    "    pv = []\n",
    "    for i in range(len(used_cols)):\n",
    "        corr_cur=[]\n",
    "        pv_cur=[]\n",
    "        for j in range(len(used_cols)):\n",
    "            tup = pearsonr(df_den[df_subtype['detail ctype'].str.contains('^'+ct+'_')][used_cols[i]], df_axon[df_subtype['detail ctype'].str.contains('^'+ct+'_')][used_cols[j]])\n",
    "            corr_cur.append(round(tup[0],6))\n",
    "            pv_cur.append(tup[1])\n",
    "        corr.append(corr_cur)\n",
    "        pv.append(pv_cur)\n",
    "    ct_corr.append(corr)\n",
    "    \n",
    "subt_corr = []\n",
    "for subl in subtlist:\n",
    "    sub_corr = []\n",
    "    for ct in subl:\n",
    "        corr = []\n",
    "        pv = []\n",
    "        for i in range(len(used_cols)):\n",
    "            corr_cur=[]\n",
    "            pv_cur=[]\n",
    "            for j in range(len(used_cols)):\n",
    "                tup = pearsonr(df_den[df_subtype['detail ctype']==ct][used_cols[i]], df_axon[df_subtype['detail ctype']==ct][used_cols[j]])\n",
    "                corr_cur.append(round(tup[0],6))\n",
    "                pv_cur.append(tup[1])\n",
    "            corr.append(corr_cur)\n",
    "            pv.append(pv_cur)\n",
    "        sub_corr.append(corr)\n",
    "    subt_corr.append(sub_corr)"
   ]
  },
  {
   "cell_type": "code",
   "execution_count": 74,
   "id": "451e929f-30a9-4de8-aeb2-cda456622560",
   "metadata": {},
   "outputs": [],
   "source": [
    "values=[]\n",
    "names=[]\n",
    "ctnums = []\n",
    "for i in range(len(ctlist)):\n",
    "    ct,ctcorr = ctlist[i], ct_corr[i]\n",
    "    subl,subc = subtlist[i],subt_corr[i]\n",
    "    names.append(ct)\n",
    "    ctnums.append(np.sum(df_subtype['detail ctype'].str.contains('^'+ct+'_')))\n",
    "    values.append([ctcorr[m][m] for m in range(len(ctcorr))])\n",
    "    for j in range(len(subl)):\n",
    "        subct,subcorr = subl[j],subc[j]\n",
    "        names.append(subct)\n",
    "        ctnums.append(np.sum(df_subtype['detail ctype']==subct))\n",
    "        values.append([subcorr[m][m] for m in range(len(subcorr))])\n",
    "df_den_axon_corr = pd.DataFrame(values,index=[names[x]+\" ({})\".format(ctnums[x]) for x in range(len(names))],columns=used_cols)\n"
   ]
  },
  {
   "cell_type": "code",
   "execution_count": 75,
   "id": "ecd93653-2731-4110-b657-06aeb39746dc",
   "metadata": {},
   "outputs": [
    {
     "data": {
      "image/png": "[encoded data removed]",
      "text/plain": [
       "<Figure size 720x720 with 2 Axes>"
      ]
     },
     "metadata": {
      "needs_background": "light"
     },
     "output_type": "display_data"
    }
   ],
   "source": [
    "selected_features = [\"Center Shift\",\"Relative Center Shift\",\n",
    "         \"Average Contraction\", \n",
    "         \"Max Branch Order\",\"Number of Bifurcations\",\"Total Length\",\n",
    "         \"Max Euclidean Distance\",\"Max Path Distance\",\"Average Euclidean Distance\", \"Average Path Distance\",     \n",
    "         'Area', 'Volume', 'Width',  'Height', \n",
    "         'Slimness']\n",
    "\n",
    "df_den_axon_corr.loc[df_den_axon_corr.index[3:7],selected_features].to_csv(r'./fig6/corr_heatmap.csv')\n",
    "\n",
    "import seaborn as sns\n",
    "plt.figure(figsize=(10,10))\n",
    "sns.heatmap(df_den_axon_corr.loc[df_den_axon_corr.index[3:7],selected_features],square=True,vmin=-1,vmax=1, cbar_kws={'shrink':0.25,'orientation':'vertical'},\n",
    "            annot=True,cmap='coolwarm',fmt='.2f',annot_kws={'weight':540,'fontname':'arial','fontsize':10})\n",
    "plt.xticks(fontsize=10,weight=540)\n",
    "plt.yticks(fontsize=10,weight=540)\n",
    "plt.savefig(r'./fig6\\MOs5_axon_den_corr.svg',dpi=300,\n",
    "                                           bbox_inches='tight',facecolor=\"white\")\n",
    "plt.show()"
   ]
  },
  {
   "cell_type": "code",
   "execution_count": null,
   "id": "b388858f-5f20-45eb-af4c-74b24d6465ea",
   "metadata": {},
   "outputs": [],
   "source": []
  },
  {
   "cell_type": "code",
   "execution_count": null,
   "id": "0b71321c-41ce-4d59-bd29-e7ce34bdcb67",
   "metadata": {},
   "outputs": [],
   "source": []
  },
  {
   "cell_type": "code",
   "execution_count": 96,
   "id": "43391344-4ec1-43a1-a618-6974a26ef606",
   "metadata": {},
   "outputs": [
    {
     "name": "stdout",
     "output_type": "stream",
     "text": [
      "(1145, 65)\n"
     ]
    }
   ],
   "source": [
    "import glob\n",
    "\n",
    "df_overlap = pd.DataFrame()\n",
    "for fn in ['MOs_connectivity_dend_domains.csv', 'FRP_connectivity_dend_domains.csv']:\n",
    "    fp = os.path.join(material_path, 'connectivity_matrix/coarse', fn)\n",
    "    tmpdf = pd.read_csv(fp,index_col=0)\n",
    "    df_overlap = pd.concat([df_overlap,tmpdf],ignore_index=False)\n",
    "\n",
    "# for tmpcsv in os.listdir(r'E:\\ZhixiYun\\Projects\\Neuron_Morphology_Table\\linus\\stypes\\csv\\rough'):\n",
    "#     tmpdf = pd.read_csv(rf'E:\\ZhixiYun\\Projects\\Neuron_Morphology_Table\\linus\\stypes\\csv\\rough\\{tmpcsv}',index_col=0)\n",
    "#     df_overlap = pd.concat([df_overlap,tmpdf],ignore_index=False)\n",
    "    \n",
    "df_overlap = df_overlap[~df_overlap.index.duplicated('last')]\n",
    "df_overlap = df_overlap.dropna(how='all',axis=1)\n",
    "df_overlap = df_overlap.fillna(0)\n",
    "df_overlap = (df_overlap+1).apply(np.log2)\n",
    "print(df_overlap.shape)\n"
   ]
  },
  {
   "cell_type": "code",
   "execution_count": 97,
   "id": "ecebba39-50b5-4c40-bee4-cd5fc0222c39",
   "metadata": {},
   "outputs": [],
   "source": [
    "import umap\n",
    "from scipy.spatial.distance import cdist\n",
    "\n",
    "def generate_similarity_matrix(arr, metric='cosine'):\n",
    "    sim_mat = np.zeros((len(arr),len(arr)),dtype=np.float32)\n",
    "    cdist_result = cdist(arr,arr,metric=metric)\n",
    "    if metric == 'cosine':\n",
    "        sim_mat = 1-cdist_result\n",
    "    if metric == 'euclidean':\n",
    "        sim_mat = np.exp(-cdist_result)\n",
    "    return sim_mat"
   ]
  },
  {
   "cell_type": "code",
   "execution_count": 98,
   "id": "baf537e4-c80f-41a5-be5e-bc9cb847f96b",
   "metadata": {},
   "outputs": [],
   "source": [
    "df_axon = pd.read_csv(os.path.join(material_path, 'morphology_feature/', 'Axon_Morphological_Features.csv'),index_col=0)\n",
    "df_axon.index = [x.replace('.semi_r','').replace('.auto_r','').replace('.semi_f','') for x in df_axon.index]\n",
    "\n",
    "df_axon = df_axon[used_cols]\n",
    "\n",
    "df_den = pd.read_csv(os.path.join(material_path, 'morphology_feature/', 'Dendrite_Morphological_Features.csv'),index_col=0)\n",
    "df_den = df_den[~df_den.index.str.contains('^Img')]\n",
    "df_den.index = [x.replace('.semi_r','').replace('.auto_r','').replace('.semi_f','') for x in df_den.index]\n",
    "\n",
    "df_den.dropna(inplace=True)\n",
    "df_den = df_den[used_cols]\n",
    "\n",
    "# soma position\n",
    "df_subtype = pd.read_csv(os.path.join(material_path, 'cell_type/c_type','ctype_unmirrored.csv'),index_col=0)"
   ]
  },
  {
   "cell_type": "code",
   "execution_count": 95,
   "id": "596285e9-f58b-4cc4-b726-526084015718",
   "metadata": {},
   "outputs": [],
   "source": [
    "# tmpdf = df_ct[df_ct['CellType'].isin(['MOs','FRP'])]\n",
    "tmpdf = df_ct[df_ct['Detail CellType'].isin(['MOs5','FRP5'])]\n",
    "celllist = tmpdf.index\n",
    "\n",
    "eps=1e-20\n",
    "\n",
    "df_morpho = df_axon.loc[celllist]\n",
    "morpho_stand_value = (df_morpho.values - df_morpho.values.mean(axis=0)) / (df_morpho.values.std(axis=0)+ eps)\n",
    "morpho_sim_mat = generate_similarity_matrix(morpho_stand_value)\n",
    "df_morpho_sim_mat = pd.DataFrame(morpho_sim_mat,index=df_morpho.index,columns=df_morpho.index)\n",
    "\n",
    "df_conn = df_overlap.loc[celllist,df_overlap.columns[:-1]]\n",
    "df_conn = df_conn.loc[:, df_conn.sum(axis=0)!=0]\n",
    "conn_stand_value = (df_conn.values - df_conn.values.mean(axis=0)) / (df_conn.values.std(axis=0)+ eps)\n",
    "conn_sim_mat = generate_similarity_matrix(conn_stand_value)\n",
    "df_conn_sim_mat = pd.DataFrame(conn_sim_mat,index=df_conn.index,columns=df_conn.index)\n",
    "\n",
    "df_somaloc = df_sl.loc[celllist]\n",
    "dist_mat = cdist(df_somaloc.values,df_somaloc.values,metric='euclidean')\n",
    "dist_mat = dist_mat/np.max(dist_mat)\n",
    "dist_mat_exp = np.exp(-dist_mat**2)\n",
    "\n",
    "\n",
    "aug_mat_morpho = morpho_sim_mat*dist_mat_exp\n",
    "aug_mat_conn = conn_sim_mat*dist_mat_exp"
   ]
  },
  {
   "cell_type": "code",
   "execution_count": 22,
   "id": "f0d3ee85-4dcb-492f-a659-27d5c705f321",
   "metadata": {},
   "outputs": [
    {
     "data": {
      "image/png": "[encoded data removed]",
      "text/plain": [
       "<Figure size 360x360 with 1 Axes>"
      ]
     },
     "metadata": {},
     "output_type": "display_data"
    }
   ],
   "source": [
    "celltypelist = tmpdf.loc[celllist]['CellType'].values\n",
    "detailctlist = tmpdf.loc[celllist]['Detail CellType'].values\n",
    "# celltypelist = tmpdf['Detail CellType'].values\n",
    "\n",
    "ump = umap.UMAP(random_state=520821)\n",
    "ump_result = ump.fit_transform(aug_mat_conn)\n",
    "\n",
    "fig = plt.figure(figsize=(5,5))\n",
    "fig.add_subplot(1,1,1,aspect='equal',adjustable='datalim')\n",
    "# plt.subplot(aspect='equal',adjustable='box')\n",
    "# for i,dct in enumerate(['MOs5','FRP5']):\n",
    "for i,dct in enumerate(['MOs2/3','MOs5,MOs6','FRP2/3','FRP5,FRP6']):\n",
    "    if i==1:\n",
    "        bool_list = np.isin(detailctlist,['MOs5','MOs6','MOs6a','MOs6b'])\n",
    "    elif i==3:\n",
    "        bool_list = np.isin(detailctlist,['FRP5','FRP6','FRP6a','FRP6b'])\n",
    "    else:\n",
    "        bool_list = detailctlist==dct\n",
    "    plt.scatter(ump_result[bool_list][:,0],ump_result[bool_list][:,1],\n",
    "                color=sns.color_palette('tab20',4)[i],label=dct,lw=0.5,s=20,edgecolor='white')\n",
    "plt.legend(framealpha=0,loc=2)\n",
    "plt.xticks([])\n",
    "plt.yticks([])\n",
    "# plt.xlabel('UMAP1')\n",
    "# plt.ylabel('UMAP2')\n",
    "# plt.title('Morphology')\n",
    "# plt.title('Connectivity')\n",
    "# plt.savefig(r'./fig6\\MOs_FRP_UMAP_Connectivity.svg',dpi=300,\n",
    "#               bbox_inches='tight',facecolor=\"white\")\n",
    "plt.show()\n"
   ]
  },
  {
   "cell_type": "code",
   "execution_count": 26,
   "id": "d3fb03fb-b3c9-4ed2-81ca-d4be9e7ffb20",
   "metadata": {},
   "outputs": [
    {
     "data": {
      "image/png": "[encoded data removed]",
      "text/plain": [
       "<Figure size 360x360 with 1 Axes>"
      ]
     },
     "metadata": {},
     "output_type": "display_data"
    }
   ],
   "source": [
    "celltypelist = tmpdf['CellType'].values\n",
    "detailctlist = tmpdf['Detail CellType'].values\n",
    "tmpindice = []\n",
    "tmpindice_index = []\n",
    "for i,ind in enumerate(tmpdf.index):\n",
    "    if ind in df_subtype.index:\n",
    "        tmpindice.append(ind)\n",
    "        tmpindice_index.append(i)\n",
    "tmpindice_index = np.asarray(tmpindice_index)\n",
    "subctlist = df_subtype.loc[tmpindice]['detail ctype'].values\n",
    "# celltypelist = tmpdf['Detail CellType'].values\n",
    "\n",
    "ump = umap.UMAP(random_state=520821,n_neighbors=15)\n",
    "ump_result = ump.fit_transform(aug_mat_morpho[tmpindice_index])\n",
    "\n",
    "fig = plt.figure(figsize=(5,5))\n",
    "fig.add_subplot(1,1,1,aspect='equal',adjustable='datalim')\n",
    "# plt.subplot(aspect='equal',adjustable='box')\n",
    "# for i,dct in enumerate(['MOs5','FRP5']):\n",
    "for i,dct in enumerate(['MOs5_1','MOs5_2','MOs5_3','FRP5_1','FRP5_2','FRP5_3','FRP5_4','FRP5_5','FRP5_6','FRP5_7']):\n",
    "    bool_list = subctlist==dct\n",
    "    if dct.startswith('MOs5'): marker='o'\n",
    "    else: marker='^'\n",
    "    plt.scatter(ump_result[bool_list][:,0],ump_result[bool_list][:,1],marker=marker,\n",
    "                color=(sns.color_palette('Set1',3)+sns.color_palette('Set2',7))[i],label=dct,lw=0.5,s=20,edgecolor='white')\n",
    "plt.legend(framealpha=0,loc='best')\n",
    "plt.xticks([])\n",
    "plt.yticks([])\n",
    "# plt.xlabel('UMAP1')\n",
    "# plt.ylabel('UMAP2')\n",
    "# plt.title('Morphology')\n",
    "# plt.title('Connectivity')\n",
    "plt.savefig(r'./fig6\\MOs5_FRP5_UMAP_Morphology_shape.svg',dpi=300,\n",
    "              bbox_inches='tight',facecolor=\"white\")\n",
    "plt.show()\n",
    "plt.close()"
   ]
  },
  {
   "cell_type": "code",
   "execution_count": 99,
   "id": "a8a77bad-47f5-4cc9-b9a0-423d2944d625",
   "metadata": {},
   "outputs": [],
   "source": [
    "# tmpdf = df_ct[df_ct['CellType'].isin(['MOs','FRP'])]\n",
    "tmpdf = df_ct[df_ct['Detail CellType'].isin(['MOs2/3','FRP2/3'])]\n",
    "celllist = tmpdf.index\n",
    "eps=1e-20\n",
    "\n",
    "df_morpho = df_axon.loc[celllist]\n",
    "morpho_stand_value = (df_morpho.values - df_morpho.values.mean(axis=0)) / (df_morpho.values.std(axis=0)+ eps)\n",
    "morpho_sim_mat = generate_similarity_matrix(morpho_stand_value)\n",
    "df_morpho_sim_mat = pd.DataFrame(morpho_sim_mat,index=df_morpho.index,columns=df_morpho.index)\n",
    "\n",
    "df_conn = df_overlap.loc[celllist,df_overlap.columns[:-1]]\n",
    "conn_stand_value = (df_conn.values - df_conn.values.mean(axis=0)) / (df_conn.values.std(axis=0)+ eps)\n",
    "conn_sim_mat = generate_similarity_matrix(conn_stand_value)\n",
    "df_conn_sim_mat = pd.DataFrame(conn_sim_mat,index=df_conn.index,columns=df_conn.index)\n",
    "\n",
    "df_somaloc = df_sl.loc[celllist]\n",
    "dist_mat = cdist(df_somaloc.values,df_somaloc.values,metric='euclidean')\n",
    "dist_mat = dist_mat/np.max(dist_mat)\n",
    "dist_mat_exp = np.exp(-dist_mat**2)\n",
    "\n",
    "\n",
    "aug_mat_morpho = morpho_sim_mat*dist_mat_exp\n",
    "aug_mat_conn = conn_sim_mat*dist_mat_exp"
   ]
  },
  {
   "cell_type": "code",
   "execution_count": 46,
   "id": "5a026947-73be-4d7d-93aa-a44b022d3bd6",
   "metadata": {},
   "outputs": [
    {
     "data": {
      "image/png": "[encoded data removed]",
      "text/plain": [
       "<Figure size 360x360 with 1 Axes>"
      ]
     },
     "metadata": {},
     "output_type": "display_data"
    }
   ],
   "source": [
    "celltypelist = tmpdf['CellType'].values\n",
    "detailctlist = tmpdf['Detail CellType'].values\n",
    "tmpindice = []\n",
    "tmpindice_index = []\n",
    "for i,ind in enumerate(tmpdf.index):\n",
    "    if ind in df_subtype.index:\n",
    "        tmpindice.append(ind)\n",
    "        tmpindice_index.append(i)\n",
    "tmpindice_index = np.asarray(tmpindice_index)\n",
    "subctlist = df_subtype.loc[tmpindice]['detail ctype'].values\n",
    "# celltypelist = tmpdf['Detail CellType'].values\n",
    "\n",
    "ump = umap.UMAP(random_state=520821,n_neighbors=15)\n",
    "ump_result = ump.fit_transform(aug_mat_conn[tmpindice_index])\n",
    "\n",
    "fig = plt.figure(figsize=(5,5))\n",
    "fig.add_subplot(1,1,1,aspect='equal',adjustable='datalim')\n",
    "# plt.subplot(aspect='equal',adjustable='box')\n",
    "# for i,dct in enumerate(['MOs5','FRP5']):\n",
    "for i,dct in enumerate(['MOs2/3_1','MOs2/3_2','MOs2/3_3']):\n",
    "    bool_list = subctlist==dct\n",
    "    if dct.startswith('MOs2/3'): marker='^'\n",
    "    else: marker='s'\n",
    "    plt.scatter(ump_result[bool_list][:,0],ump_result[bool_list][:,1],marker=marker,\n",
    "                color=(sns.color_palette('Set1',3)+sns.color_palette('Set2',7))[i],label=dct,lw=0.5,s=20,edgecolor='white')\n",
    "plt.legend(framealpha=0,loc='best')\n",
    "plt.xticks([])\n",
    "plt.yticks([])\n",
    "plt.xlabel('UMAP1')\n",
    "plt.ylabel('UMAP2')\n",
    "# plt.title('Morphology')\n",
    "plt.title('Connectivity')\n",
    "# plt.savefig(r'./fig6\\MOs2_3_UMAP_Connectivity_shape.svg',dpi=300,\n",
    "#               bbox_inches='tight',facecolor=\"white\")\n",
    "plt.show()\n",
    "plt.close()"
   ]
  },
  {
   "cell_type": "code",
   "execution_count": 100,
   "id": "70becd8d-ad88-41be-bfac-5dc5a0b9fd96",
   "metadata": {},
   "outputs": [
    {
     "name": "stdout",
     "output_type": "stream",
     "text": [
      "(338, 64) (338, 54)\n"
     ]
    },
    {
     "name": "stderr",
     "output_type": "stream",
     "text": [
      "D:\\anaconda3\\envs\\yzx\\lib\\site-packages\\sklearn\\metrics\\pairwise.py:1776: DataConversionWarning: Data was converted to boolean for metric jaccard\n",
      "  warnings.warn(msg, DataConversionWarning)\n"
     ]
    },
    {
     "name": "stdout",
     "output_type": "stream",
     "text": [
      "(338, 32) (338, 20)\n"
     ]
    },
    {
     "name": "stderr",
     "output_type": "stream",
     "text": [
      "D:\\anaconda3\\envs\\yzx\\lib\\site-packages\\sklearn\\metrics\\pairwise.py:1776: DataConversionWarning: Data was converted to boolean for metric jaccard\n",
      "  warnings.warn(msg, DataConversionWarning)\n"
     ]
    }
   ],
   "source": [
    "def find_discontinuities(label_list):\n",
    "    discontinuous_positions = []\n",
    "    for i in range(len(label_list) - 1):  # Traverse the list\n",
    "        if label_list[i + 1] - label_list[i] > 1:  # Check for discontinuity\n",
    "            discontinuous_positions.append(i + 1)  # Store the position of the discontinuity\n",
    "    return discontinuous_positions\n",
    "\n",
    "\n",
    "from sklearn.cluster import spectral_clustering\n",
    "from sklearn.neighbors import kneighbors_graph\n",
    "from sklearn.decomposition import PCA\n",
    "from sknetwork.clustering import Louvain, PropagationClustering, modularity\n",
    "from scipy import sparse\n",
    "\n",
    "knn_num = 15\n",
    "\n",
    "\n",
    "celltypelist = tmpdf['CellType'].values\n",
    "detailctlist = tmpdf['Detail CellType'].values\n",
    "tmpindice = []\n",
    "tmpindice_index = []\n",
    "for i,ind in enumerate(tmpdf.index):\n",
    "    if ind in df_subtype.index:\n",
    "        tmpindice.append(ind)\n",
    "        tmpindice_index.append(i)\n",
    "tmpindice_index = np.asarray(tmpindice_index)\n",
    "subctlist = df_subtype.loc[tmpindice]['detail ctype'].values\n",
    "# celltypelist = tmpdf['Detail CellType'].values\n",
    "\n",
    "# data = aug_mat_conn[tmpindice_index].copy()\n",
    "data = conn_stand_value.copy()\n",
    "data_pca = PCA(0.99).fit_transform(data)\n",
    "print(data.shape,data_pca.shape)\n",
    "G = kneighbors_graph(data_pca,knn_num).toarray()\n",
    "G = kneighbors_graph(G,knn_num,mode='distance',metric='jaccard').toarray()\n",
    "G[G>0] = 1-G[G>0]\n",
    "adjacency = sparse.csr_matrix(G)\n",
    "\n",
    "scorelist_c = []\n",
    "clunumlist_c = []\n",
    "reslist = []\n",
    "for res in range(-1000,1000,1):\n",
    "    res = 1.01**res\n",
    "    # compute the best partition\n",
    "    louvain = Louvain(resolution=res, random_state=520821)\n",
    "    louvain.fit(adjacency)\n",
    "    labels=louvain.labels_\n",
    "    # print(np.unique(labels).shape, res, end='\\t')\n",
    "    \n",
    "    if len(set(labels))>10 or len(set(labels))==1: continue\n",
    "    # score = silhouette_score(G, labels, metric='euclidean')\n",
    "    score = modularity(G,labels)\n",
    "    clunumlist_c.append(len(set(labels)))\n",
    "    reslist.append(res)\n",
    "    \n",
    "    scorelist_c.append(score)\n",
    "\n",
    "for i in find_discontinuities(clunumlist_c):\n",
    "    for res in np.linspace(reslist[i-1],reslist[i],num=11,endpoint=False)[1:]:\n",
    "        louvain = Louvain(resolution=res, random_state=520821)\n",
    "        louvain.fit(adjacency)\n",
    "        labels=louvain.labels_\n",
    "        score = modularity(G,labels)\n",
    "        clunumlist_c.append(len(set(labels)))\n",
    "        reslist.append(res)\n",
    "\n",
    "        scorelist_c.append(score)\n",
    "    \n",
    "# data = aug_mat_morpho[tmpindice_index].copy()\n",
    "data = morpho_stand_value.copy()\n",
    "data_pca = PCA(0.99).fit_transform(data)\n",
    "print(data.shape,data_pca.shape)\n",
    "G = kneighbors_graph(data_pca,knn_num).toarray()\n",
    "G = kneighbors_graph(G,knn_num,mode='distance',metric='jaccard').toarray()\n",
    "G[G>0] = 1-G[G>0]\n",
    "adjacency = sparse.csr_matrix(G)\n",
    "\n",
    "scorelist_m = []\n",
    "clunumlist_m = []\n",
    "for res in range(-1000,1000,1):\n",
    "    res = 1.01**res\n",
    "    # compute the best partition\n",
    "    louvain = Louvain(resolution=res, random_state=520821)\n",
    "    louvain.fit(adjacency)\n",
    "    labels=louvain.labels_\n",
    "    \n",
    "    if len(set(labels))>10 or len(set(labels))==1: continue\n",
    "    score = modularity(G,labels)\n",
    "    clunumlist_m.append(len(set(labels)))\n",
    "    scorelist_m.append(score)\n"
   ]
  },
  {
   "cell_type": "code",
   "execution_count": 101,
   "id": "cac79c08-dd91-4636-afef-bfd2549d4dbc",
   "metadata": {},
   "outputs": [
    {
     "name": "stdout",
     "output_type": "stream",
     "text": [
      "(6129, 50) (6388, 5)\n"
     ]
    },
    {
     "name": "stderr",
     "output_type": "stream",
     "text": [
      "D:\\anaconda3\\envs\\yzx\\lib\\site-packages\\sklearn\\metrics\\pairwise.py:1776: DataConversionWarning: Data was converted to boolean for metric jaccard\n",
      "  warnings.warn(msg, DataConversionWarning)\n"
     ]
    }
   ],
   "source": [
    "'''switch MOs_FRP_L2_3 or MOs_FRP_L5'''\n",
    "df_t_pca = pd.read_csv(os.path.join(material_path, 'gene_profile/MOs_FRP_L2_3','pca_feature.csv'),index_col=0)\n",
    "df_t_label = pd.read_csv(os.path.join(material_path, 'gene_profile/MOs_FRP_L2_3','sele_labels.csv'),index_col=0)\n",
    "print(df_t_pca.shape,df_t_label.shape)\n",
    "G = kneighbors_graph(df_t_pca.values,knn_num).toarray()\n",
    "G = kneighbors_graph(G,knn_num,mode='distance',metric='jaccard').toarray()\n",
    "G[G>0] = 1-G[G>0]\n",
    "adjacency = sparse.csr_matrix(G)\n",
    "\n",
    "scorelist_t = []\n",
    "clunumlist_t = []\n",
    "for res in range(-1000,1000,1):\n",
    "    res = 1.01**res\n",
    "    # compute the best partition\n",
    "    louvain = Louvain(resolution=res, random_state=520821)\n",
    "    louvain.fit(adjacency)\n",
    "    labels=louvain.labels_\n",
    "    \n",
    "    if len(set(labels))>10 or len(set(labels))==1: continue\n",
    "    score = modularity(G,labels)\n",
    "    clunumlist_t.append(len(set(labels)))\n",
    "    scorelist_t.append(score)"
   ]
  },
  {
   "cell_type": "code",
   "execution_count": 102,
   "id": "518b95c3-0a0b-4167-bb85-9e4f1b81d28a",
   "metadata": {},
   "outputs": [
    {
     "data": {
      "image/png": "[encoded data removed]",
      "text/plain": [
       "<Figure size 360x144 with 1 Axes>"
      ]
     },
     "metadata": {
      "needs_background": "light"
     },
     "output_type": "display_data"
    }
   ],
   "source": [
    "fig,ax=plt.subplots(1,1,figsize=(5,2))\n",
    "sns.barplot(x=clunumlist_t+clunumlist_c+clunumlist_m,y=scorelist_t+scorelist_c+scorelist_m,ci='sd',\n",
    "            hue=['transcriptomic feature']*len(scorelist_t)+['connectivity feature']*len(scorelist_c)+['morphological feature']*len(scorelist_m),ax=ax, palette='Set2')\n",
    "\n",
    "df = pd.DataFrame(columns=['modularity','total_clusters','type'])\n",
    "df['modularity'] = scorelist_t+scorelist_c+scorelist_m\n",
    "df['total_clusters'] = clunumlist_t+clunumlist_c+clunumlist_m\n",
    "df['type'] = ['transcriptomic']*len(scorelist_t) + ['connectivity']*len(scorelist_c) + ['morphology']*len(scorelist_m)\n",
    "df.to_csv(r'./supp/modularity_MOs_FRP_L2_3.csv')\n",
    "\n",
    "for i,[clunumlist,scorelist] in enumerate(zip([clunumlist_t,clunumlist_c,clunumlist_m],[scorelist_t,scorelist_c,scorelist_m])):\n",
    "    _1,_2 = np.unique(clunumlist, return_counts=True)\n",
    "    for clunum, counts in zip(_1,_2):\n",
    "        if counts<=10:\n",
    "            np.random.seed(520821)\n",
    "            jitter = np.random.uniform(-0.1, 0.1, counts)\n",
    "            ax.scatter(np.array([clunum-2+(i-1)*0.267] * counts) + jitter, np.array(scorelist)[np.array(clunumlist)==clunum], \n",
    "                       # color=np.array(sns.color_palette('Set2',3)[i])**1,\n",
    "                       facecolors='none',\n",
    "                       zorder=5,lw=0.5,edgecolor='gray',s=2,)\n",
    "\n",
    "            \n",
    "ax.spines['top'].set_visible(False)\n",
    "ax.spines['right'].set_visible(False)\n",
    "ax.set_title('Louvain clustering')\n",
    "ax.set_xlabel('#cluster')\n",
    "ax.set_ylabel('modularity')\n",
    "# ax.legend(mode='expand',frameon=False)\n",
    "ax.legend_.remove()\n",
    "fig.savefig(r'./supp/val_MOs_FRP_L2_3_louvain.svg',dpi=400,\n",
    "              bbox_inches='tight',facecolor=\"white\")\n",
    "plt.show(fig)"
   ]
  },
  {
   "cell_type": "code",
   "execution_count": 103,
   "id": "3809a85c-5503-46ae-b410-718c07ae8750",
   "metadata": {},
   "outputs": [
    {
     "name": "stdout",
     "output_type": "stream",
     "text": [
      "transcriptomic (array([ 2,  3,  4,  5,  6,  7,  8,  9, 10]), array([410,  29,  62,  69,  15,  10,   6,  10,  14], dtype=int64))\n",
      "connectivity (array([ 2,  3,  4,  5,  6,  7,  8,  9, 10]), array([36, 28, 51, 23, 15, 35, 29, 20, 34], dtype=int64))\n",
      "morphology (array([ 2,  3,  4,  5,  6,  7,  8,  9, 10]), array([113,  40,   7,  64,   6,  47,   3,   8,  60], dtype=int64))\n"
     ]
    }
   ],
   "source": [
    "print('transcriptomic',np.unique(clunumlist_t, return_counts=True))\n",
    "print('connectivity',np.unique(clunumlist_c, return_counts=True))\n",
    "print('morphology',np.unique(clunumlist_m, return_counts=True))"
   ]
  },
  {
   "cell_type": "code",
   "execution_count": null,
   "id": "dc9ee701-52d3-459d-91c5-b08e5a4017a3",
   "metadata": {},
   "outputs": [],
   "source": []
  },
  {
   "cell_type": "code",
   "execution_count": null,
   "id": "9ce1d527-96ac-4bca-b9c9-343fd48fd699",
   "metadata": {},
   "outputs": [],
   "source": []
  },
  {
   "cell_type": "code",
   "execution_count": null,
   "id": "40d67b93-8fca-45e5-a14c-444798b292f9",
   "metadata": {},
   "outputs": [],
   "source": []
  }
 ],
 "metadata": {
  "kernelspec": {
   "display_name": "Python 3",
   "language": "python",
   "name": "python3"
  },
  "language_info": {
   "codemirror_mode": {
    "name": "ipython",
    "version": 3
   },
   "file_extension": ".py",
   "mimetype": "text/x-python",
   "name": "python",
   "nbconvert_exporter": "python",
   "pygments_lexer": "ipython3",
   "version": "3.6.13"
  }
 },
 "nbformat": 4,
 "nbformat_minor": 5
}
