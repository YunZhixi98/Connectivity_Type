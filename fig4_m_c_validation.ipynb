{
 "cells": [
  {
   "cell_type": "code",
   "execution_count": 16,
   "id": "d9b20230-bd11-4090-8934-58b6d8afe30d",
   "metadata": {},
   "outputs": [],
   "source": [
    "import pandas as pd\n",
    "import matplotlib\n",
    "import matplotlib.pyplot as plt\n",
    "import numpy as np\n",
    "import os\n",
    "import seaborn as sns\n",
    "from sklearn.decomposition import PCA, KernelPCA\n",
    "import json\n",
    "from scipy.spatial.distance import cdist\n",
    "from sklearn.metrics import silhouette_score\n",
    "from sklearn.metrics.cluster import adjusted_rand_score, adjusted_mutual_info_score"
   ]
  },
  {
   "cell_type": "code",
   "execution_count": 17,
   "id": "da251685-a920-47cd-a77e-e9a3943d6a8a",
   "metadata": {},
   "outputs": [],
   "source": [
    "with open(r\"E:\\ZhixiYun\\Projects\\Neuron_Morphology_Table\\Tables\\tree.json\") as f:\n",
    "    tree = json.load(f)\n",
    "    \n",
    "def ct_ccf_sort(ctlist):\n",
    "    ctlist = [x.replace(\"23\",\"2/3\") for x in ctlist]\n",
    "    select_ct_sorted = []\n",
    "    for item in tree:\n",
    "        if item[\"acronym\"] in ctlist:\n",
    "            select_ct_sorted.append(item[\"acronym\"])\n",
    "    return select_ct_sorted"
   ]
  },
  {
   "cell_type": "code",
   "execution_count": 18,
   "id": "c7f51f21-9a1c-4eca-8aee-e78c68efdf9e",
   "metadata": {},
   "outputs": [],
   "source": [
    "used_cols = [\"Center Shift\",\"Relative Center Shift\",\n",
    "         \"Average Contraction\",  \"Average Bifurcation Angle Remote\",\"Average Bifurcation Angle Local\",\n",
    "         \"Max Branch Order\",\"Number of Bifurcations\",\"Total Length\",\n",
    "         \"Max Euclidean Distance\",\"Max Path Distance\",\"Average Euclidean Distance\",\"25% Euclidean Distance\",\n",
    "         \"50% Euclidean Distance\",\"75% Euclidean Distance\", \"Average Path Distance\",\"25% Path Distance\",\"50% Path Distance\",\"75% Path Distance\",       \n",
    "         '2D Density', '3D Density',\n",
    "         'Area', 'Volume', 'Width',  'Width_95','Height', 'Height_95', 'Depth', 'Depth_95', \n",
    "         'Slimness', 'Slimness_95', 'Flatness', 'Flatness_95']\n",
    "\n",
    "material_path = r\"E:\\ZhixiYun\\Projects\\Neuron_Morphology_Table\\Materials\"\n",
    "df_ct = pd.concat([pd.read_csv(os.path.join(material_path,\"cell_type/s_type\",\"AIBS+SEU-ALLEN_Full_1741.csv\"), index_col=0), \n",
    "                   pd.read_csv(os.path.join(material_path,\"cell_type/s_type\",\"MouseLight_Full_1200.csv\"), index_col=0), \n",
    "                   pd.read_csv(os.path.join(material_path,\"cell_type/s_type\",\"ION_Axon_6357.csv\"), index_col=0)\n",
    "                  ])\n",
    "df_ct.index = [x.replace('.semi_r','').replace('.auto_r','').replace('.semi_f','') for x in df_ct.index]\n",
    "\n",
    "\n",
    "df_axon = pd.read_csv(os.path.join(material_path, 'morphology_feature/', 'Axon_Morphological_Features.csv'),index_col=0)\n",
    "df_axon.index = [x.replace('.semi_r','').replace('.auto_r','').replace('.semi_f','') for x in df_axon.index]\n",
    "\n",
    "df_axon = df_axon[used_cols]\n"
   ]
  },
  {
   "cell_type": "code",
   "execution_count": 19,
   "id": "9ba0e862-938f-40ae-bc0b-af1d01ede2e1",
   "metadata": {},
   "outputs": [],
   "source": [
    "df_den = pd.read_csv(os.path.join(material_path, 'morphology_feature/', 'Dendrite_Morphological_Features.csv'),index_col=0)\n",
    "df_den = df_den[~df_den.index.str.contains('^Img')]\n",
    "df_den.index = [x.replace('.semi_r','').replace('.auto_r','').replace('.semi_f','') for x in df_den.index]\n",
    "\n",
    "df_den.dropna(inplace=True)\n",
    "df_den = df_den[used_cols]\n"
   ]
  },
  {
   "cell_type": "code",
   "execution_count": null,
   "id": "2c1c3e57-2670-4b15-92e1-5728f30065ef",
   "metadata": {},
   "outputs": [],
   "source": []
  },
  {
   "cell_type": "code",
   "execution_count": 20,
   "id": "3a52468a-21ed-4775-a838-3a17219d917d",
   "metadata": {},
   "outputs": [
    {
     "data": {
      "text/html": [
       "<div>\n",
       "<style scoped>\n",
       "    .dataframe tbody tr th:only-of-type {\n",
       "        vertical-align: middle;\n",
       "    }\n",
       "\n",
       "    .dataframe tbody tr th {\n",
       "        vertical-align: top;\n",
       "    }\n",
       "\n",
       "    .dataframe thead th {\n",
       "        text-align: right;\n",
       "    }\n",
       "</style>\n",
       "<table border=\"1\" class=\"dataframe\">\n",
       "  <thead>\n",
       "    <tr style=\"text-align: right;\">\n",
       "      <th></th>\n",
       "      <th>x</th>\n",
       "      <th>y</th>\n",
       "      <th>z</th>\n",
       "    </tr>\n",
       "  </thead>\n",
       "  <tbody>\n",
       "    <tr>\n",
       "      <th>17109_1701_x8048_y22277.swc</th>\n",
       "      <td>108.920000</td>\n",
       "      <td>148.804000</td>\n",
       "      <td>151.962000</td>\n",
       "    </tr>\n",
       "    <tr>\n",
       "      <th>17109_1801_x6698_y12550.swc</th>\n",
       "      <td>113.636000</td>\n",
       "      <td>136.714000</td>\n",
       "      <td>154.727000</td>\n",
       "    </tr>\n",
       "    <tr>\n",
       "      <th>17109_1901_x9602_y10508.swc</th>\n",
       "      <td>123.004000</td>\n",
       "      <td>183.974000</td>\n",
       "      <td>122.068000</td>\n",
       "    </tr>\n",
       "    <tr>\n",
       "      <th>17109_2201_x8046_y23301.swc</th>\n",
       "      <td>129.235000</td>\n",
       "      <td>142.621000</td>\n",
       "      <td>135.341000</td>\n",
       "    </tr>\n",
       "    <tr>\n",
       "      <th>17109_2301_x8535_y23051.swc</th>\n",
       "      <td>133.308000</td>\n",
       "      <td>151.149000</td>\n",
       "      <td>137.958000</td>\n",
       "    </tr>\n",
       "    <tr>\n",
       "      <th>...</th>\n",
       "      <td>...</td>\n",
       "      <td>...</td>\n",
       "      <td>...</td>\n",
       "    </tr>\n",
       "    <tr>\n",
       "      <th>201787_044_reg.swc</th>\n",
       "      <td>120.318486</td>\n",
       "      <td>128.302793</td>\n",
       "      <td>219.684775</td>\n",
       "    </tr>\n",
       "    <tr>\n",
       "      <th>201787_045_reg.swc</th>\n",
       "      <td>118.910440</td>\n",
       "      <td>116.284689</td>\n",
       "      <td>217.566681</td>\n",
       "    </tr>\n",
       "    <tr>\n",
       "      <th>201787_048_reg.swc</th>\n",
       "      <td>121.453392</td>\n",
       "      <td>113.448196</td>\n",
       "      <td>217.670578</td>\n",
       "    </tr>\n",
       "    <tr>\n",
       "      <th>201787_050_reg.swc</th>\n",
       "      <td>135.528418</td>\n",
       "      <td>125.900020</td>\n",
       "      <td>213.173718</td>\n",
       "    </tr>\n",
       "    <tr>\n",
       "      <th>201787_053_reg.swc</th>\n",
       "      <td>132.820071</td>\n",
       "      <td>98.975749</td>\n",
       "      <td>195.627937</td>\n",
       "    </tr>\n",
       "  </tbody>\n",
       "</table>\n",
       "<p>9298 rows × 3 columns</p>\n",
       "</div>"
      ],
      "text/plain": [
       "                                      x           y           z\n",
       "17109_1701_x8048_y22277.swc  108.920000  148.804000  151.962000\n",
       "17109_1801_x6698_y12550.swc  113.636000  136.714000  154.727000\n",
       "17109_1901_x9602_y10508.swc  123.004000  183.974000  122.068000\n",
       "17109_2201_x8046_y23301.swc  129.235000  142.621000  135.341000\n",
       "17109_2301_x8535_y23051.swc  133.308000  151.149000  137.958000\n",
       "...                                 ...         ...         ...\n",
       "201787_044_reg.swc           120.318486  128.302793  219.684775\n",
       "201787_045_reg.swc           118.910440  116.284689  217.566681\n",
       "201787_048_reg.swc           121.453392  113.448196  217.670578\n",
       "201787_050_reg.swc           135.528418  125.900020  213.173718\n",
       "201787_053_reg.swc           132.820071   98.975749  195.627937\n",
       "\n",
       "[9298 rows x 3 columns]"
      ]
     },
     "execution_count": 20,
     "metadata": {},
     "output_type": "execute_result"
    }
   ],
   "source": [
    "sl_1741 = pd.read_csv(os.path.join(material_path, 'soma_location', '1741_Soma_Location.csv'),index_col=0)\n",
    "sl_1002 = pd.read_csv(os.path.join(material_path, 'soma_location', 'MouseLight_Soma_Location.csv'),index_col=0).iloc[:]\n",
    "sl_ION = pd.read_csv(os.path.join(material_path, 'soma_location', 'ION_Soma_Location.csv'),index_col=0)\n",
    "df_sl = pd.concat([sl_1741, sl_1002, sl_ION])\n",
    "df_sl.index = [x.replace('.semi_r','').replace('.auto_r','').replace('.semi_f','') for x in df_sl.index]\n",
    "# df_sl = df_sl.loc[df_subtype.index]\n",
    "df_sl.dropna(inplace=True)\n",
    "for ind in df_sl.index:\n",
    "    z = df_sl.loc[ind,'z']\n",
    "    if z>228:\n",
    "        df_sl.loc[ind,'z'] = 456-z\n",
    "\n",
    "df_sl"
   ]
  },
  {
   "cell_type": "code",
   "execution_count": null,
   "id": "209232fc-907b-4859-ba69-88a9c0df2295",
   "metadata": {},
   "outputs": [],
   "source": []
  },
  {
   "cell_type": "code",
   "execution_count": 21,
   "id": "f8659108-0e70-4df7-9f7a-9a563c62917b",
   "metadata": {},
   "outputs": [],
   "source": [
    "for ind in df_ct.index:\n",
    "    dct = df_ct.loc[ind, 'Detail CellType']\n",
    "    if dct.find('SSp')!=-1:\n",
    "        if dct.find(\"2/3\")!=-1:\n",
    "            dct = 'SSp2/3'\n",
    "        elif dct.find(\"1\")!=-1:\n",
    "            dct = 'SSp1'\n",
    "        elif dct.find(\"4\")!=-1:\n",
    "            dct = 'SSp4'\n",
    "        elif dct.find(\"5\")!=-1:\n",
    "            dct = 'SSp5'\n",
    "        elif dct.find(\"6a\")!=-1:\n",
    "            dct = 'SSp6a'\n",
    "        elif dct.find(\"6b\")!=-1:\n",
    "            dct = 'SSp6b'\n",
    "        else:\n",
    "            dct = 'SSp'\n",
    "        df_ct.loc[ind, 'Detail CellType'] = dct"
   ]
  },
  {
   "cell_type": "code",
   "execution_count": null,
   "id": "00f6bb29-f08f-409b-bea2-943f9c22ac18",
   "metadata": {},
   "outputs": [],
   "source": []
  },
  {
   "cell_type": "code",
   "execution_count": 22,
   "id": "c4fe4f32-39dc-4c4b-a934-1aa8efdc90b9",
   "metadata": {},
   "outputs": [
    {
     "data": {
      "text/plain": [
       "31"
      ]
     },
     "execution_count": 22,
     "metadata": {},
     "output_type": "execute_result"
    }
   ],
   "source": [
    "df_dct_v_c = df_ct['Detail CellType'].value_counts()\n",
    "ctlist = ct_ccf_sort(list(df_dct_v_c[df_dct_v_c>60].index))\n",
    "len(ctlist)"
   ]
  },
  {
   "cell_type": "code",
   "execution_count": 23,
   "id": "e43ab9f1-a290-4e8d-8a56-2f3c85c34dca",
   "metadata": {},
   "outputs": [],
   "source": [
    "import glob\n",
    "df_overlap = pd.DataFrame()\n",
    "for ct in ctlist:\n",
    "    csvpath = glob.glob(os.path.join(material_path, 'connectivity_matrix/mirrored/',\n",
    "                                     '{}*'.format(ct.replace('2/3','23'))))[0]\n",
    "    tmpdf = pd.read_csv(csvpath,index_col=0)\n",
    "    tmpdf = tmpdf.dropna(how='all',axis=0)\n",
    "    tmpdf['celltype'] = ct\n",
    "    df_overlap = pd.concat([df_overlap,tmpdf])\n",
    "df_overlap = df_overlap.dropna(how='all',axis=1)\n",
    "df_overlap = df_overlap.fillna(0)\n",
    "tmpseries = df_overlap['celltype']\n",
    "del df_overlap['celltype']\n",
    "df_overlap = (df_overlap+1).apply(np.log)\n",
    "# df = (df.T/(df.T.sum(axis=0)+1e-20)).T\n",
    "df_overlap['celltype'] = tmpseries\n",
    "df_overlap.index = [x.replace('.semi_r','').replace('.auto_r','').replace('.semi_f','') for x in df_overlap.index]\n"
   ]
  },
  {
   "cell_type": "code",
   "execution_count": 24,
   "id": "01b34764-f03e-4040-afac-18c36cb7ab0a",
   "metadata": {},
   "outputs": [
    {
     "data": {
      "text/plain": [
       "6494"
      ]
     },
     "execution_count": 24,
     "metadata": {},
     "output_type": "execute_result"
    }
   ],
   "source": [
    "# unify the index of each dataframe\n",
    "unified_indice = []\n",
    "for tmpdf in [df_overlap,df_ct,df_axon,df_sl]:\n",
    "    if len(unified_indice)==0:\n",
    "        unified_indice = list(tmpdf.index)\n",
    "    else:\n",
    "        unified_indice = np.intersect1d(unified_indice,tmpdf.index)\n",
    "\n",
    "df_ct = df_ct.loc[unified_indice]\n",
    "df_overlap = df_overlap.loc[unified_indice]\n",
    "df_axon = df_axon.loc[unified_indice]\n",
    "df_sl= df_sl.loc[unified_indice]\n",
    "\n",
    "len(unified_indice)"
   ]
  },
  {
   "cell_type": "code",
   "execution_count": 25,
   "id": "e2532256-84f8-4b74-84db-dd6a7dfa52f8",
   "metadata": {},
   "outputs": [],
   "source": [
    "eps = 1e-20"
   ]
  },
  {
   "cell_type": "code",
   "execution_count": 26,
   "id": "c476d201-cba3-4b6d-b60d-9aaf59ff30cf",
   "metadata": {},
   "outputs": [],
   "source": [
    "def generate_similarity_matrix(arr, metric='cosine'):\n",
    "    sim_mat = np.zeros((len(arr),len(arr)),dtype=np.float32)\n",
    "    cdist_result = cdist(arr,arr,metric=metric)\n",
    "    if metric == 'cosine':\n",
    "        sim_mat = 1-cdist_result\n",
    "    if metric == 'euclidean':\n",
    "        sim_mat = np.exp(-cdist_result)\n",
    "    return sim_mat"
   ]
  },
  {
   "cell_type": "markdown",
   "id": "bb1f65bf-fedc-4771-8486-98d6b628c557",
   "metadata": {},
   "source": [
    "# Soma Location Based"
   ]
  },
  {
   "cell_type": "code",
   "execution_count": 27,
   "id": "d5746e26-fd03-48fa-9bcb-76ae447ee205",
   "metadata": {},
   "outputs": [],
   "source": [
    "from scipy.stats import pearsonr, spearmanr\n",
    "from scipy.spatial.distance import cdist\n",
    "from itertools import product\n",
    "\n",
    "'''Preparation of anatomy covariance based mahalanobis distance'''\n",
    "import SimpleITK as sitk\n",
    "annotmp = sitk.GetArrayFromImage(sitk.ReadImage(r\"E:\\ZhixiYun\\neuro_morpho_toolbox-0.1-py3.6.egg\\neuro_morpho_toolbox\\data\\annotation_25.nrrd\"))\n",
    "anno = np.zeros((annotmp.shape[2], annotmp.shape[1], annotmp.shape[0]), dtype=annotmp.dtype)\n",
    "ix,iy,iz=np.where(annotmp>0)\n",
    "anno[iz,iy,ix]=annotmp[ix,iy,iz]\n",
    "\n",
    "def find_children(id_):\n",
    "    idlist = []\n",
    "    for t in tree:\n",
    "        if id_ in t[\"structure_id_path\"]:\n",
    "            idlist.append(t['id'])\n",
    "    if not idlist:\n",
    "        idlist = [id_]\n",
    "    return idlist\n",
    "\n",
    "\n",
    "lutnametoid = dict(zip([t[\"acronym\"] for t in tree], [t[\"id\"] for t in tree]))\n",
    "lutidtoname = dict(zip([t[\"id\"] for t in tree], [t[\"acronym\"] for t in tree]))\n",
    "\n",
    "def anatomy_cov_mah_distance(data,ct):\n",
    "    v = np.array(data)\n",
    "    # v = v-v.mean(axis=0)\n",
    "    \n",
    "    anno_contra = anno.copy()\n",
    "    anno_contra[:,:,:228]=0\n",
    "    anno_ipsi = anno.copy()\n",
    "    anno_ipsi[:,:,228:]=0\n",
    "    \n",
    "    cov_ipsi = np.cov(np.argwhere(np.isin(anno_ipsi, find_children(lutnametoid.get(ct)))).T)\n",
    "    cov_contra = np.cov(np.argwhere(np.isin(anno_contra, find_children(lutnametoid.get(ct)))).T)\n",
    "    # cov_ipsi = np.identity(3)\n",
    "    # cov_contra = np.identity(3)\n",
    "    \n",
    "    ipsi = []\n",
    "    contra = []\n",
    "    for i in range(len(v)):\n",
    "        z = v[i][2]\n",
    "        if z<=228: ipsi.append(i)\n",
    "        else: contra.append(i)\n",
    "    # print(len(ipsi),len(contra))\n",
    "    v1, v2 = v[ipsi], v[contra]\n",
    "    # v1 = v1 - v1.mean(axis=0)\n",
    "    # v2 = v2 - v2.mean(axis=0)\n",
    "    \n",
    "    dist_mat = np.zeros((len(v),len(v)),dtype=np.float32)-1\n",
    "\n",
    "    for i in range(len(v1)):\n",
    "        for j in range(i,len(v1)):\n",
    "            diff1 = v1[i]-v1[j]\n",
    "            dist = np.sqrt(diff1.T@np.linalg.inv(cov_ipsi)@diff1)\n",
    "            dist_mat[ipsi[i],ipsi[j]] = dist\n",
    "            dist_mat[ipsi[j],ipsi[i]] = dist\n",
    "            \n",
    "    for i in range(len(v2)):\n",
    "        for j in range(i,len(v2)):\n",
    "            diff2 = v2[i]-v2[j]\n",
    "            dist = np.sqrt(diff2.T@np.linalg.inv(cov_contra)@diff2)\n",
    "            dist_mat[contra[i],contra[j]] = dist\n",
    "            dist_mat[contra[j],contra[i]] = dist\n",
    "            \n",
    "    # print(np.max(dist_mat))\n",
    "    dist_mat[dist_mat==-1]=(np.max(dist_mat)+1)**2\n",
    "    \n",
    "    return dist_mat"
   ]
  },
  {
   "cell_type": "code",
   "execution_count": 28,
   "id": "0d70a4e2-c71d-46ff-8d58-aa1e2ff4214f",
   "metadata": {},
   "outputs": [],
   "source": [
    "def show_significance(pv):\n",
    "    significance = \"n.s.\"\n",
    "    if pv<0.0001:\n",
    "        significance = '***'\n",
    "    elif pv<0.001:\n",
    "        significance = '**'  \n",
    "    # elif pv<0.01:\n",
    "    #     significance = '**'\n",
    "    elif pv<0.05:\n",
    "        significance = '*'\n",
    "    return significance"
   ]
  },
  {
   "cell_type": "code",
   "execution_count": 29,
   "id": "2325dea5-6639-4b61-8ad0-2b24885d15f6",
   "metadata": {
    "collapsed": true,
    "jupyter": {
     "outputs_hidden": true
    },
    "tags": []
   },
   "outputs": [
    {
     "name": "stderr",
     "output_type": "stream",
     "text": [
      "D:\\anaconda3\\envs\\yzx\\lib\\site-packages\\seaborn\\matrix.py:625: ClusterWarning: scipy.cluster: The symmetric non-negative hollow observation matrix looks suspiciously like an uncondensed distance matrix\n",
      "  metric=self.metric)\n"
     ]
    },
    {
     "name": "stdout",
     "output_type": "stream",
     "text": [
      "FRP5 -0.028966693563184168 0.03325784131105188 -0.10011104456530358 1.6456558581024788e-13\n"
     ]
    },
    {
     "name": "stderr",
     "output_type": "stream",
     "text": [
      "D:\\anaconda3\\envs\\yzx\\lib\\site-packages\\seaborn\\matrix.py:654: UserWarning: Clustering large matrix with scipy. Installing `fastcluster` may give better performance.\n",
      "  warnings.warn(msg)\n",
      "D:\\anaconda3\\envs\\yzx\\lib\\site-packages\\seaborn\\matrix.py:625: ClusterWarning: scipy.cluster: The symmetric non-negative hollow observation matrix looks suspiciously like an uncondensed distance matrix\n",
      "  metric=self.metric)\n"
     ]
    },
    {
     "name": "stdout",
     "output_type": "stream",
     "text": [
      "MOs2/3 -0.09349267576514314 2.5836433063785873e-92 -0.2930283198541974 0.0\n"
     ]
    },
    {
     "name": "stderr",
     "output_type": "stream",
     "text": [
      "D:\\anaconda3\\envs\\yzx\\lib\\site-packages\\seaborn\\matrix.py:654: UserWarning: Clustering large matrix with scipy. Installing `fastcluster` may give better performance.\n",
      "  warnings.warn(msg)\n",
      "D:\\anaconda3\\envs\\yzx\\lib\\site-packages\\seaborn\\matrix.py:625: ClusterWarning: scipy.cluster: The symmetric non-negative hollow observation matrix looks suspiciously like an uncondensed distance matrix\n",
      "  metric=self.metric)\n"
     ]
    },
    {
     "name": "stdout",
     "output_type": "stream",
     "text": [
      "MOs5 -0.0663436957479166 2.6190193487279225e-125 -0.15489948357710143 0.0\n"
     ]
    },
    {
     "name": "stderr",
     "output_type": "stream",
     "text": [
      "D:\\anaconda3\\envs\\yzx\\lib\\site-packages\\seaborn\\matrix.py:654: UserWarning: Clustering large matrix with scipy. Installing `fastcluster` may give better performance.\n",
      "  warnings.warn(msg)\n",
      "D:\\anaconda3\\envs\\yzx\\lib\\site-packages\\seaborn\\matrix.py:625: ClusterWarning: scipy.cluster: The symmetric non-negative hollow observation matrix looks suspiciously like an uncondensed distance matrix\n",
      "  metric=self.metric)\n"
     ]
    },
    {
     "name": "stdout",
     "output_type": "stream",
     "text": [
      "MOs6a -0.05575092548460059 1.1668797378291712e-10 -0.14297793536685813 7.255049950981918e-62\n"
     ]
    },
    {
     "name": "stderr",
     "output_type": "stream",
     "text": [
      "D:\\anaconda3\\envs\\yzx\\lib\\site-packages\\seaborn\\matrix.py:654: UserWarning: Clustering large matrix with scipy. Installing `fastcluster` may give better performance.\n",
      "  warnings.warn(msg)\n",
      "D:\\anaconda3\\envs\\yzx\\lib\\site-packages\\seaborn\\matrix.py:625: ClusterWarning: scipy.cluster: The symmetric non-negative hollow observation matrix looks suspiciously like an uncondensed distance matrix\n",
      "  metric=self.metric)\n"
     ]
    },
    {
     "name": "stdout",
     "output_type": "stream",
     "text": [
      "SSp5 -0.10392933281871197 7.219827464099486e-66 -0.38822001951170804 0.0\n"
     ]
    },
    {
     "name": "stderr",
     "output_type": "stream",
     "text": [
      "D:\\anaconda3\\envs\\yzx\\lib\\site-packages\\seaborn\\matrix.py:654: UserWarning: Clustering large matrix with scipy. Installing `fastcluster` may give better performance.\n",
      "  warnings.warn(msg)\n",
      "D:\\anaconda3\\envs\\yzx\\lib\\site-packages\\seaborn\\matrix.py:625: ClusterWarning: scipy.cluster: The symmetric non-negative hollow observation matrix looks suspiciously like an uncondensed distance matrix\n",
      "  metric=self.metric)\n"
     ]
    },
    {
     "name": "stdout",
     "output_type": "stream",
     "text": [
      "ACAd2/3 -0.1595380757901914 2.564918139266819e-127 -0.23749423177966475 4.1080974833040283e-284\n"
     ]
    },
    {
     "name": "stderr",
     "output_type": "stream",
     "text": [
      "D:\\anaconda3\\envs\\yzx\\lib\\site-packages\\seaborn\\matrix.py:654: UserWarning: Clustering large matrix with scipy. Installing `fastcluster` may give better performance.\n",
      "  warnings.warn(msg)\n",
      "D:\\anaconda3\\envs\\yzx\\lib\\site-packages\\seaborn\\matrix.py:625: ClusterWarning: scipy.cluster: The symmetric non-negative hollow observation matrix looks suspiciously like an uncondensed distance matrix\n",
      "  metric=self.metric)\n"
     ]
    },
    {
     "name": "stdout",
     "output_type": "stream",
     "text": [
      "ACAd5 -0.06480574640993342 2.24954249353298e-101 -0.08087377530687137 5.939395932823934e-157\n"
     ]
    },
    {
     "name": "stderr",
     "output_type": "stream",
     "text": [
      "D:\\anaconda3\\envs\\yzx\\lib\\site-packages\\seaborn\\matrix.py:625: ClusterWarning: scipy.cluster: The symmetric non-negative hollow observation matrix looks suspiciously like an uncondensed distance matrix\n",
      "  metric=self.metric)\n"
     ]
    },
    {
     "name": "stdout",
     "output_type": "stream",
     "text": [
      "ACAd6a -0.23073097548074278 1.7476957048502522e-110 -0.24697793245417526 8.223060697135302e-127\n"
     ]
    },
    {
     "name": "stderr",
     "output_type": "stream",
     "text": [
      "D:\\anaconda3\\envs\\yzx\\lib\\site-packages\\seaborn\\matrix.py:654: UserWarning: Clustering large matrix with scipy. Installing `fastcluster` may give better performance.\n",
      "  warnings.warn(msg)\n",
      "D:\\anaconda3\\envs\\yzx\\lib\\site-packages\\seaborn\\matrix.py:625: ClusterWarning: scipy.cluster: The symmetric non-negative hollow observation matrix looks suspiciously like an uncondensed distance matrix\n",
      "  metric=self.metric)\n"
     ]
    },
    {
     "name": "stdout",
     "output_type": "stream",
     "text": [
      "ACAv2/3 -0.05576856820473904 3.922260168638951e-09 -0.26942034912627505 2.2642188857456773e-184\n"
     ]
    },
    {
     "name": "stderr",
     "output_type": "stream",
     "text": [
      "D:\\anaconda3\\envs\\yzx\\lib\\site-packages\\seaborn\\matrix.py:654: UserWarning: Clustering large matrix with scipy. Installing `fastcluster` may give better performance.\n",
      "  warnings.warn(msg)\n",
      "D:\\anaconda3\\envs\\yzx\\lib\\site-packages\\seaborn\\matrix.py:625: ClusterWarning: scipy.cluster: The symmetric non-negative hollow observation matrix looks suspiciously like an uncondensed distance matrix\n",
      "  metric=self.metric)\n"
     ]
    },
    {
     "name": "stdout",
     "output_type": "stream",
     "text": [
      "ACAv5 -0.10398900212757013 0.0 -0.1045608990557089 0.0\n"
     ]
    },
    {
     "name": "stderr",
     "output_type": "stream",
     "text": [
      "D:\\anaconda3\\envs\\yzx\\lib\\site-packages\\seaborn\\matrix.py:654: UserWarning: Clustering large matrix with scipy. Installing `fastcluster` may give better performance.\n",
      "  warnings.warn(msg)\n",
      "D:\\anaconda3\\envs\\yzx\\lib\\site-packages\\seaborn\\matrix.py:625: ClusterWarning: scipy.cluster: The symmetric non-negative hollow observation matrix looks suspiciously like an uncondensed distance matrix\n",
      "  metric=self.metric)\n"
     ]
    },
    {
     "name": "stdout",
     "output_type": "stream",
     "text": [
      "PL2/3 -0.20403458312219167 0.0 -0.1748331416885321 2.583604236613364e-239\n"
     ]
    },
    {
     "name": "stderr",
     "output_type": "stream",
     "text": [
      "D:\\anaconda3\\envs\\yzx\\lib\\site-packages\\seaborn\\matrix.py:654: UserWarning: Clustering large matrix with scipy. Installing `fastcluster` may give better performance.\n",
      "  warnings.warn(msg)\n",
      "D:\\anaconda3\\envs\\yzx\\lib\\site-packages\\seaborn\\matrix.py:625: ClusterWarning: scipy.cluster: The symmetric non-negative hollow observation matrix looks suspiciously like an uncondensed distance matrix\n",
      "  metric=self.metric)\n"
     ]
    },
    {
     "name": "stdout",
     "output_type": "stream",
     "text": [
      "PL5 -0.02235903691638672 1.2860428356148072e-70 -0.09474083855375239 0.0\n"
     ]
    },
    {
     "name": "stderr",
     "output_type": "stream",
     "text": [
      "D:\\anaconda3\\envs\\yzx\\lib\\site-packages\\seaborn\\matrix.py:625: ClusterWarning: scipy.cluster: The symmetric non-negative hollow observation matrix looks suspiciously like an uncondensed distance matrix\n",
      "  metric=self.metric)\n"
     ]
    },
    {
     "name": "stdout",
     "output_type": "stream",
     "text": [
      "PL6a -0.08880360887702585 1.897294588439045e-18 -0.05235434658642576 2.473316261755302e-07\n"
     ]
    },
    {
     "name": "stderr",
     "output_type": "stream",
     "text": [
      "D:\\anaconda3\\envs\\yzx\\lib\\site-packages\\seaborn\\matrix.py:654: UserWarning: Clustering large matrix with scipy. Installing `fastcluster` may give better performance.\n",
      "  warnings.warn(msg)\n",
      "D:\\anaconda3\\envs\\yzx\\lib\\site-packages\\seaborn\\matrix.py:625: ClusterWarning: scipy.cluster: The symmetric non-negative hollow observation matrix looks suspiciously like an uncondensed distance matrix\n",
      "  metric=self.metric)\n"
     ]
    },
    {
     "name": "stdout",
     "output_type": "stream",
     "text": [
      "ILA5 -0.17045040372712292 4.885780552128328e-86 -0.14067935702383727 6.26468221003938e-59\n"
     ]
    },
    {
     "name": "stderr",
     "output_type": "stream",
     "text": [
      "D:\\anaconda3\\envs\\yzx\\lib\\site-packages\\seaborn\\matrix.py:654: UserWarning: Clustering large matrix with scipy. Installing `fastcluster` may give better performance.\n",
      "  warnings.warn(msg)\n",
      "D:\\anaconda3\\envs\\yzx\\lib\\site-packages\\seaborn\\matrix.py:625: ClusterWarning: scipy.cluster: The symmetric non-negative hollow observation matrix looks suspiciously like an uncondensed distance matrix\n",
      "  metric=self.metric)\n"
     ]
    },
    {
     "name": "stdout",
     "output_type": "stream",
     "text": [
      "ORBl2/3 -0.07870122959818746 4.730615754316358e-30 -0.1373777781083817 1.6762823480274407e-88\n"
     ]
    },
    {
     "name": "stderr",
     "output_type": "stream",
     "text": [
      "D:\\anaconda3\\envs\\yzx\\lib\\site-packages\\seaborn\\matrix.py:654: UserWarning: Clustering large matrix with scipy. Installing `fastcluster` may give better performance.\n",
      "  warnings.warn(msg)\n",
      "D:\\anaconda3\\envs\\yzx\\lib\\site-packages\\seaborn\\matrix.py:625: ClusterWarning: scipy.cluster: The symmetric non-negative hollow observation matrix looks suspiciously like an uncondensed distance matrix\n",
      "  metric=self.metric)\n"
     ]
    },
    {
     "name": "stdout",
     "output_type": "stream",
     "text": [
      "ORBl5 -0.05942921193729016 3.6555129226601866e-47 -0.06467123926283226 1.540243928461102e-55\n"
     ]
    },
    {
     "name": "stderr",
     "output_type": "stream",
     "text": [
      "D:\\anaconda3\\envs\\yzx\\lib\\site-packages\\seaborn\\matrix.py:654: UserWarning: Clustering large matrix with scipy. Installing `fastcluster` may give better performance.\n",
      "  warnings.warn(msg)\n",
      "D:\\anaconda3\\envs\\yzx\\lib\\site-packages\\seaborn\\matrix.py:625: ClusterWarning: scipy.cluster: The symmetric non-negative hollow observation matrix looks suspiciously like an uncondensed distance matrix\n",
      "  metric=self.metric)\n"
     ]
    },
    {
     "name": "stdout",
     "output_type": "stream",
     "text": [
      "ORBm2/3 -0.09851085356265145 4.473670396482585e-24 -0.1445463019919864 3.696838770905966e-50\n"
     ]
    },
    {
     "name": "stderr",
     "output_type": "stream",
     "text": [
      "D:\\anaconda3\\envs\\yzx\\lib\\site-packages\\seaborn\\matrix.py:654: UserWarning: Clustering large matrix with scipy. Installing `fastcluster` may give better performance.\n",
      "  warnings.warn(msg)\n",
      "D:\\anaconda3\\envs\\yzx\\lib\\site-packages\\seaborn\\matrix.py:625: ClusterWarning: scipy.cluster: The symmetric non-negative hollow observation matrix looks suspiciously like an uncondensed distance matrix\n",
      "  metric=self.metric)\n"
     ]
    },
    {
     "name": "stdout",
     "output_type": "stream",
     "text": [
      "ORBm5 -0.11038932557073115 1.5069892674627175e-123 -0.01651353251255488 0.00042224836940573296\n"
     ]
    },
    {
     "name": "stderr",
     "output_type": "stream",
     "text": [
      "D:\\anaconda3\\envs\\yzx\\lib\\site-packages\\seaborn\\matrix.py:625: ClusterWarning: scipy.cluster: The symmetric non-negative hollow observation matrix looks suspiciously like an uncondensed distance matrix\n",
      "  metric=self.metric)\n"
     ]
    },
    {
     "name": "stdout",
     "output_type": "stream",
     "text": [
      "ORBvl1 -0.17341282849467335 5.521868130204313e-60 -0.1373805568870129 4.2573334802970423e-38\n"
     ]
    },
    {
     "name": "stderr",
     "output_type": "stream",
     "text": [
      "D:\\anaconda3\\envs\\yzx\\lib\\site-packages\\seaborn\\matrix.py:654: UserWarning: Clustering large matrix with scipy. Installing `fastcluster` may give better performance.\n",
      "  warnings.warn(msg)\n",
      "D:\\anaconda3\\envs\\yzx\\lib\\site-packages\\seaborn\\matrix.py:625: ClusterWarning: scipy.cluster: The symmetric non-negative hollow observation matrix looks suspiciously like an uncondensed distance matrix\n",
      "  metric=self.metric)\n"
     ]
    },
    {
     "name": "stdout",
     "output_type": "stream",
     "text": [
      "ORBvl2/3 -0.09334662381497848 9.550658664858337e-89 -0.1367653129051425 3.557575381282419e-189\n"
     ]
    },
    {
     "name": "stderr",
     "output_type": "stream",
     "text": [
      "D:\\anaconda3\\envs\\yzx\\lib\\site-packages\\seaborn\\matrix.py:654: UserWarning: Clustering large matrix with scipy. Installing `fastcluster` may give better performance.\n",
      "  warnings.warn(msg)\n",
      "D:\\anaconda3\\envs\\yzx\\lib\\site-packages\\seaborn\\matrix.py:625: ClusterWarning: scipy.cluster: The symmetric non-negative hollow observation matrix looks suspiciously like an uncondensed distance matrix\n",
      "  metric=self.metric)\n"
     ]
    },
    {
     "name": "stdout",
     "output_type": "stream",
     "text": [
      "ORBvl5 -0.04861247467743475 6.021455108962604e-50 -0.07234730192038843 1.5979527124729978e-108\n"
     ]
    },
    {
     "name": "stderr",
     "output_type": "stream",
     "text": [
      "D:\\anaconda3\\envs\\yzx\\lib\\site-packages\\seaborn\\matrix.py:625: ClusterWarning: scipy.cluster: The symmetric non-negative hollow observation matrix looks suspiciously like an uncondensed distance matrix\n",
      "  metric=self.metric)\n"
     ]
    },
    {
     "name": "stdout",
     "output_type": "stream",
     "text": [
      "ORBvl6a -0.039569133279230236 0.0036290004642991927 -0.04761900947975396 0.00046335525371633335\n"
     ]
    },
    {
     "name": "stderr",
     "output_type": "stream",
     "text": [
      "D:\\anaconda3\\envs\\yzx\\lib\\site-packages\\seaborn\\matrix.py:654: UserWarning: Clustering large matrix with scipy. Installing `fastcluster` may give better performance.\n",
      "  warnings.warn(msg)\n",
      "D:\\anaconda3\\envs\\yzx\\lib\\site-packages\\seaborn\\matrix.py:625: ClusterWarning: scipy.cluster: The symmetric non-negative hollow observation matrix looks suspiciously like an uncondensed distance matrix\n",
      "  metric=self.metric)\n"
     ]
    },
    {
     "name": "stdout",
     "output_type": "stream",
     "text": [
      "AId2/3 -0.05774777009307834 2.9427471924010474e-66 -0.13445594536692285 0.0\n"
     ]
    },
    {
     "name": "stderr",
     "output_type": "stream",
     "text": [
      "D:\\anaconda3\\envs\\yzx\\lib\\site-packages\\seaborn\\matrix.py:654: UserWarning: Clustering large matrix with scipy. Installing `fastcluster` may give better performance.\n",
      "  warnings.warn(msg)\n",
      "D:\\anaconda3\\envs\\yzx\\lib\\site-packages\\seaborn\\matrix.py:625: ClusterWarning: scipy.cluster: The symmetric non-negative hollow observation matrix looks suspiciously like an uncondensed distance matrix\n",
      "  metric=self.metric)\n"
     ]
    },
    {
     "name": "stdout",
     "output_type": "stream",
     "text": [
      "AId5 -0.029112971608970455 1.1979791245740928e-38 -0.04988037567741145 5.130519672593018e-110\n"
     ]
    },
    {
     "name": "stderr",
     "output_type": "stream",
     "text": [
      "D:\\anaconda3\\envs\\yzx\\lib\\site-packages\\seaborn\\matrix.py:625: ClusterWarning: scipy.cluster: The symmetric non-negative hollow observation matrix looks suspiciously like an uncondensed distance matrix\n",
      "  metric=self.metric)\n"
     ]
    },
    {
     "name": "stdout",
     "output_type": "stream",
     "text": [
      "AIv2/3 -0.10199342218575004 1.1795832752056408e-21 -0.06791217820597012 2.0690189849968802e-10\n"
     ]
    },
    {
     "name": "stderr",
     "output_type": "stream",
     "text": [
      "D:\\anaconda3\\envs\\yzx\\lib\\site-packages\\seaborn\\matrix.py:654: UserWarning: Clustering large matrix with scipy. Installing `fastcluster` may give better performance.\n",
      "  warnings.warn(msg)\n",
      "D:\\anaconda3\\envs\\yzx\\lib\\site-packages\\seaborn\\matrix.py:625: ClusterWarning: scipy.cluster: The symmetric non-negative hollow observation matrix looks suspiciously like an uncondensed distance matrix\n",
      "  metric=self.metric)\n"
     ]
    },
    {
     "name": "stdout",
     "output_type": "stream",
     "text": [
      "AIv5 -0.024197720520641553 0.007496620101919906 -0.11537907384162661 1.8483249747877526e-37\n"
     ]
    },
    {
     "name": "stderr",
     "output_type": "stream",
     "text": [
      "D:\\anaconda3\\envs\\yzx\\lib\\site-packages\\seaborn\\matrix.py:625: ClusterWarning: scipy.cluster: The symmetric non-negative hollow observation matrix looks suspiciously like an uncondensed distance matrix\n",
      "  metric=self.metric)\n"
     ]
    },
    {
     "name": "stdout",
     "output_type": "stream",
     "text": [
      "SUB -0.030987011796986725 0.02275563994728962 -0.12004552393283112 8.509764438670414e-19\n"
     ]
    },
    {
     "name": "stderr",
     "output_type": "stream",
     "text": [
      "D:\\anaconda3\\envs\\yzx\\lib\\site-packages\\seaborn\\matrix.py:654: UserWarning: Clustering large matrix with scipy. Installing `fastcluster` may give better performance.\n",
      "  warnings.warn(msg)\n",
      "D:\\anaconda3\\envs\\yzx\\lib\\site-packages\\seaborn\\matrix.py:625: ClusterWarning: scipy.cluster: The symmetric non-negative hollow observation matrix looks suspiciously like an uncondensed distance matrix\n",
      "  metric=self.metric)\n"
     ]
    },
    {
     "name": "stdout",
     "output_type": "stream",
     "text": [
      "CP -0.056349815479959216 6.450090115120601e-60 -0.20899780931524825 0.0\n"
     ]
    },
    {
     "name": "stderr",
     "output_type": "stream",
     "text": [
      "D:\\anaconda3\\envs\\yzx\\lib\\site-packages\\seaborn\\matrix.py:625: ClusterWarning: scipy.cluster: The symmetric non-negative hollow observation matrix looks suspiciously like an uncondensed distance matrix\n",
      "  metric=self.metric)\n"
     ]
    },
    {
     "name": "stdout",
     "output_type": "stream",
     "text": [
      "VPL -0.20324362096620277 4.269770515761801e-77 -0.3392254990349371 1.1262626750119319e-219\n"
     ]
    },
    {
     "name": "stderr",
     "output_type": "stream",
     "text": [
      "D:\\anaconda3\\envs\\yzx\\lib\\site-packages\\seaborn\\matrix.py:654: UserWarning: Clustering large matrix with scipy. Installing `fastcluster` may give better performance.\n",
      "  warnings.warn(msg)\n",
      "D:\\anaconda3\\envs\\yzx\\lib\\site-packages\\seaborn\\matrix.py:625: ClusterWarning: scipy.cluster: The symmetric non-negative hollow observation matrix looks suspiciously like an uncondensed distance matrix\n",
      "  metric=self.metric)\n"
     ]
    },
    {
     "name": "stdout",
     "output_type": "stream",
     "text": [
      "VPM -0.4408231436977803 0.0 -0.5146657199304692 0.0\n"
     ]
    },
    {
     "name": "stderr",
     "output_type": "stream",
     "text": [
      "D:\\anaconda3\\envs\\yzx\\lib\\site-packages\\seaborn\\matrix.py:625: ClusterWarning: scipy.cluster: The symmetric non-negative hollow observation matrix looks suspiciously like an uncondensed distance matrix\n",
      "  metric=self.metric)\n"
     ]
    },
    {
     "name": "stdout",
     "output_type": "stream",
     "text": [
      "LGd -0.20742105189209314 2.290271025228165e-59 -0.2570514170530951 3.0039387536229996e-91\n"
     ]
    },
    {
     "name": "stderr",
     "output_type": "stream",
     "text": [
      "D:\\anaconda3\\envs\\yzx\\lib\\site-packages\\ipykernel_launcher.py:94: UserWarning: FixedFormatter should only be used together with FixedLocator\n",
      "D:\\anaconda3\\envs\\yzx\\lib\\site-packages\\ipykernel_launcher.py:98: UserWarning: Matplotlib is currently using module://ipykernel.pylab.backend_inline, which is a non-GUI backend, so cannot show the figure.\n"
     ]
    },
    {
     "data": {
      "image/png": "[encoded data removed]",
      "text/plain": [
       "<Figure size 288x180 with 1 Axes>"
      ]
     },
     "metadata": {
      "needs_background": "light"
     },
     "output_type": "display_data"
    }
   ],
   "source": [
    "m_sim_list=[]\n",
    "c_sim_list=[]\n",
    "l_m_corr_list=[]\n",
    "l_c_corr_list=[]\n",
    "c_m_corr_list=[]\n",
    "diff_value_list = []\n",
    "\n",
    "corr_test = []\n",
    "\n",
    "for i in range(len(ctlist)):\n",
    "    ct=ctlist[i]\n",
    "    # if ct.find('SSp')!=-1: continue\n",
    "    # if ct not in ['ACAd6a','CP','LGd']: continue\n",
    "    tmpdf = df_ct[df_ct['Detail CellType']==ct]\n",
    "    # tmpdf = tmpdf.sort_values(by='detail ctype')\n",
    "    celllist = tmpdf.index\n",
    "    \n",
    "    df_somaloc = df_sl.loc[celllist]*25\n",
    "    df_somaloc.dropna(inplace=True)\n",
    "    celllist = df_somaloc.index\n",
    "    somaloc_dist_mat = cdist(df_somaloc.values,df_somaloc.values,metric='euclidean')\n",
    "    # somaloc_dist_mat = anatomy_cov_mah_distance(df_somaloc.values,ct)\n",
    "    # somaloc_dist_mat = np.exp(-0.5*somaloc_dist_mat**1)\n",
    "    df_somaloc_dist_mat = pd.DataFrame(somaloc_dist_mat, index=celllist, columns=celllist)\n",
    "    \n",
    "    g_sl = sns.clustermap(df_somaloc_dist_mat,method='ward')\n",
    "    cluster_celllist=np.array(celllist)[np.array(g_sl.dendrogram_col.reordered_ind)]\n",
    "    g_sl.ax_heatmap.set_xticks([])\n",
    "    g_sl.ax_heatmap.set_yticks([])\n",
    "    # plt.suptitle('soma distance')\n",
    "    # plt.savefig(f'./fig4/intra_similarity_overview/soma_location_anatomy_mahalanobis_based/{ct.replace(\"2/3\",\"23\")}_l.png', dpi=250, bbox_inches='tight',facecolor='w')\n",
    "    # plt.savefig(f'./fig4/flipped/intra_similarity_overview/soma_location_based/{ct.replace(\"2/3\",\"23\")}_l.png', dpi=250, bbox_inches='tight',facecolor='w')\n",
    "    plt.close()\n",
    "    # plt.show()\n",
    "    # continue\n",
    "    \n",
    "    df_morpho = df_axon.loc[celllist]\n",
    "    morpho_stand_value = (df_morpho.values - df_morpho.values.mean(axis=0)) / (df_morpho.values.std(axis=0)+ eps)\n",
    "    morpho_sim_mat = generate_similarity_matrix(morpho_stand_value)\n",
    "    df_morpho_sim_mat = pd.DataFrame(morpho_sim_mat,index=df_morpho.index,columns=df_morpho.index)\n",
    "    \n",
    "\n",
    "    df_conn = df_overlap.loc[celllist,df_overlap.columns[:-1]]\n",
    "    conn_stand_value = (df_conn.values - df_conn.values.mean(axis=0)) / (df_conn.values.std(axis=0)+ eps)\n",
    "    conn_sim_mat = generate_similarity_matrix(conn_stand_value)\n",
    "    df_conn_sim_mat = pd.DataFrame(conn_sim_mat,index=df_conn.index,columns=df_conn.index)\n",
    "    \n",
    "    diag_idx = [x*len(celllist)+x for x in range(len(celllist))]\n",
    "    df_somaloc_dist_mat_remove_diag=np.delete(df_somaloc_dist_mat.values.flatten(),diag_idx)\n",
    "    df_morpho_sim_mat_remove_diag=np.delete(df_morpho_sim_mat.values.flatten(),diag_idx)\n",
    "    df_conn_sim_mat_remove_diag=np.delete(df_conn_sim_mat.values.flatten(),diag_idx)\n",
    "\n",
    "    l_m,l_m_p=pearsonr(df_somaloc_dist_mat_remove_diag, df_morpho_sim_mat_remove_diag)\n",
    "    l_c,l_c_p=pearsonr(df_somaloc_dist_mat_remove_diag, df_conn_sim_mat_remove_diag)\n",
    "    l_m_corr_list.append(l_m)\n",
    "    l_c_corr_list.append(l_c)\n",
    "    print(ct,l_m,l_m_p,l_c,l_c_p)\n",
    "    corr_test.append([ct,l_m,l_m_p,show_significance(l_m_p),l_c,l_c_p,show_significance(l_c_p)])\n",
    "    diff_value_list.extend(list(df_conn_sim_mat_remove_diag-df_morpho_sim_mat_remove_diag))\n",
    "    \n",
    "    c_m_corr_list.append(pearsonr(df_morpho_sim_mat_remove_diag,df_conn_sim_mat_remove_diag)[0])\n",
    "    m_sim_list.extend(list(df_morpho_sim_mat_remove_diag))\n",
    "    c_sim_list.extend(list(df_conn_sim_mat_remove_diag))\n",
    "    g=sns.clustermap(df_morpho_sim_mat.loc[cluster_celllist][cluster_celllist],row_cluster=False,col_cluster=False,vmax=1,vmin=-1, cmap='OrRd')\n",
    "    g.ax_cbar.set_visible(False)\n",
    "    g.ax_heatmap.set_xticks([])\n",
    "    g.ax_heatmap.set_yticks([])\n",
    "    # plt.suptitle('m-similarity '+ct,y=1)\n",
    "    # plt.savefig(f'./fig4/flipped/intra_similarity_overview/soma_location_based/{ct.replace(\"2/3\",\"23\")}_l_m.png', dpi=250, bbox_inches='tight',facecolor='w')\n",
    "    plt.close()\n",
    "    # plt.show()\n",
    "    \n",
    "    g=sns.clustermap(df_conn_sim_mat.loc[cluster_celllist][cluster_celllist],row_cluster=False,col_cluster=False,vmax=1,vmin=-1, cmap='OrRd')\n",
    "    g.ax_cbar.set_visible(False)\n",
    "    g.ax_heatmap.set_xticks([])\n",
    "    g.ax_heatmap.set_yticks([])\n",
    "    # plt.suptitle('c-similarity '+ct,y=1)\n",
    "    # plt.savefig(f'./fig4/flipped/intra_similarity_overview/soma_location_based/{ct.replace(\"2/3\",\"23\")}_l_c.png', dpi=250, bbox_inches='tight',facecolor='w')\n",
    "    plt.close()\n",
    "    # plt.show()\n",
    "    \n",
    "\n",
    "pd.DataFrame(corr_test,columns=['Cell Type','l_m_corr','p-value','significance','l_c_corr','p-value','significance']).to_csv(r'E:\\ZhixiYun\\Projects\\Neuron_Morphology_Table\\Figures\\revision\\STablex_l_m_l_c_corr_test.csv')\n",
    "\n",
    "'''all stype histogram of c_m_diff'''\n",
    "diff_value_list = np.asarray(diff_value_list)\n",
    "fig,ax=plt.subplots(1,figsize=(4,2.5))\n",
    "ax.hist(diff_value_list,bins=np.histogram_bin_edges(diff_value_list,bins='auto'),color='#ffb8bb',density=False)\n",
    "left = np.sum(diff_value_list<0)/len(diff_value_list)\n",
    "# ax.set_title('{:.1f}%  '.format((np.round(left,3)*100))+'   {:.1f}%'.format(100-np.round(left,3)*100))\n",
    "ax.axvline(x=0,ls='--',color='#4055b5',lw=2)\n",
    "ax.spines['right'].set_visible(False)\n",
    "ax.spines['top'].set_visible(False)\n",
    "ax.set_yticklabels(['0','5e+3','1e+4','1.5e+4','2e+4'])\n",
    "ax.set_ylabel('count')\n",
    "ax.set_xlabel('c-similarity - m-similarity')\n",
    "# fig.savefig('./fig4/flipped/c_m_diff_histogram.png', dpi=250, bbox_inches='tight',facecolor='w')\n",
    "fig.show()"
   ]
  },
  {
   "cell_type": "code",
   "execution_count": 30,
   "id": "fd89fe44-9eac-4a41-923b-d1191918180f",
   "metadata": {
    "tags": []
   },
   "outputs": [
    {
     "data": {
      "text/plain": [
       "(0.4644729656711963, 0.5355270343288037)"
      ]
     },
     "execution_count": 30,
     "metadata": {},
     "output_type": "execute_result"
    }
   ],
   "source": [
    "left,1-left"
   ]
  },
  {
   "cell_type": "code",
   "execution_count": 63,
   "id": "40711eaf-3e4d-46f6-8110-721e2b288247",
   "metadata": {},
   "outputs": [
    {
     "name": "stdout",
     "output_type": "stream",
     "text": [
      "R_square: 0.24467102260957305 p_value: 0.0\n"
     ]
    },
    {
     "data": {
      "text/plain": [
       "Text(-0.25, 0.5, 'c-similarity')"
      ]
     },
     "execution_count": 63,
     "metadata": {},
     "output_type": "execute_result"
    },
    {
     "data": {
      "image/png": "[encoded data removed]",
      "text/plain": [
       "<Figure size 288x288 with 3 Axes>"
      ]
     },
     "metadata": {
      "needs_background": "light"
     },
     "output_type": "display_data"
    }
   ],
   "source": [
    "import random\n",
    "random.seed(8)\n",
    "randind=np.array(random.sample(np.arange(len(m_sim_list)).tolist(),int(len(m_sim_list)/10)))\n",
    "from scipy import stats\n",
    "slope, intercept, r_value, p_value, std_err = stats.linregress(np.array(m_sim_list)[randind],\n",
    "                                                               np.array(c_sim_list)[randind])\n",
    "# slope, intercept, r_value**2, p_value, std_err\n",
    "print('R_square:',r_value**2,'p_value:', p_value)\n",
    "g = sns.jointplot(x=np.array(m_sim_list)[randind], y=np.array(c_sim_list)[randind],\n",
    "                  kind=\"scatter\", \n",
    "                  # truncate=False,\n",
    "                  xlim=(-1, 1), ylim=(-1, 1),\n",
    "                  color='dodgerblue', height=4,ci=None,\n",
    "                  # order=1,\n",
    "                  joint_kws={'s':0.1},\n",
    "                  # marginal_kws={'color':[(34/255,129/255,185/255)]})\n",
    "                  marginal_kws={'color':[(225/255,136/255,96/255)]})\n",
    "g.ax_joint.plot((-1,1),(-1*slope+intercept,1*slope+intercept),color='orange',lw=2)\n",
    "g.ax_joint.set_xlabel('m-similarity')\n",
    "g.ax_joint.set_ylabel('c-similarity')\n",
    "# g.savefig(f'./fig4/flipped/m_c_linear_regression_orange.png',\n",
    "#             dpi=250, bbox_inches='tight',facecolor='w')\n"
   ]
  },
  {
   "cell_type": "code",
   "execution_count": 32,
   "id": "a2f5b9cd-93a9-4758-b8b8-3410839953be",
   "metadata": {},
   "outputs": [
    {
     "data": {
      "image/png": "[encoded data removed]",
      "text/plain": [
       "<Figure size 216x216 with 1 Axes>"
      ]
     },
     "metadata": {
      "needs_background": "light"
     },
     "output_type": "display_data"
    }
   ],
   "source": [
    "df_boxplot=pd.DataFrame(l_m_corr_list+l_c_corr_list,columns=['value'],)\n",
    "df_boxplot['class'] = ['l_m_corr']*len(ctlist)+['l_c_corr']*len(ctlist)\n",
    "df_boxplot['celltype'] = ctlist*2\n",
    "plt.figure(figsize=(3,3))\n",
    "g=sns.boxplot(data=df_boxplot,x='class',y='value',width=0.3,palette=np.array([(34,129,185),(246,128,75)])/255.0)\n",
    "\n",
    "g.spines['right'].set_visible(False)\n",
    "g.spines['top'].set_visible(False)\n",
    "plt.xlabel('')\n",
    "plt.ylabel('Correlation Coefficient',fontsize=11)\n",
    "\n",
    "# plt.savefig('./fig4/flipped/stypes_l_m_l_c_corr_boxplot.png',dpi=250, bbox_inches='tight',facecolor='w')\n",
    "plt.show()"
   ]
  },
  {
   "cell_type": "code",
   "execution_count": 33,
   "id": "d5881115-096e-4103-9314-4e149cc27287",
   "metadata": {},
   "outputs": [
    {
     "name": "stdout",
     "output_type": "stream",
     "text": [
      "Ttest_relResult(statistic=3.880158102580387, pvalue=0.0005302214170292882)\n"
     ]
    }
   ],
   "source": [
    "from scipy.stats import ttest_rel\n",
    "print(ttest_rel(l_m_corr_list,l_c_corr_list))"
   ]
  },
  {
   "cell_type": "code",
   "execution_count": 34,
   "id": "ebcd22b6-9734-4598-a588-d8433b8f3583",
   "metadata": {},
   "outputs": [
    {
     "data": {
      "image/png": "[encoded data removed]",
      "text/plain": [
       "<Figure size 252x540 with 1 Axes>"
      ]
     },
     "metadata": {
      "needs_background": "light"
     },
     "output_type": "display_data"
    }
   ],
   "source": [
    "plt.figure(figsize=(3.5,7.5))\n",
    "g=sns.barplot(data=df_boxplot,hue='class',y='celltype',x='value',palette=np.array([(34,129,185),(246,128,75)])/255.0,orient='horizontal',zorder=10)\n",
    "g.legend_.set_visible(False)\n",
    "plt.xticks(rotation=0)\n",
    "g.yaxis.set_ticks_position('right')\n",
    "plt.grid(axis='x',linestyle='--')\n",
    "plt.ylabel('')\n",
    "g.spines['left'].set_visible(False)\n",
    "g.spines['top'].set_visible(False)\n",
    "\n",
    "plt.xlabel('Correlation Coefficient',fontsize=12)\n",
    "# plt.savefig('./fig4/flipped/stypes_l_m_l_c_corr_barplot.png',dpi=250, bbox_inches='tight',facecolor='w')\n",
    "plt.show()"
   ]
  },
  {
   "cell_type": "code",
   "execution_count": 35,
   "id": "38b68512-c837-4311-8ffd-df8045cd3b3b",
   "metadata": {},
   "outputs": [
    {
     "name": "stderr",
     "output_type": "stream",
     "text": [
      "D:\\anaconda3\\envs\\yzx\\lib\\site-packages\\ipykernel_launcher.py:28: UserWarning: Matplotlib is currently using module://ipykernel.pylab.backend_inline, which is a non-GUI backend, so cannot show the figure.\n"
     ]
    },
    {
     "data": {
      "image/png": "[encoded data removed]",
      "text/plain": [
       "<Figure size 360x216 with 1 Axes>"
      ]
     },
     "metadata": {
      "needs_background": "light"
     },
     "output_type": "display_data"
    }
   ],
   "source": [
    "lutnametorgb = dict(zip([t[\"acronym\"] for t in tree], [t[\"rgb_triplet\"] for t in tree]))\n",
    "\n",
    "fig,ax=plt.subplots(1,figsize=(5,3))\n",
    "\n",
    "for i,ct in enumerate(['CP','ACAd6a','LGd']):\n",
    "    tmpdf = df_ct[df_ct['Detail CellType']==ct]\n",
    "    celllist = tmpdf.index\n",
    "    \n",
    "    df_somaloc = df_sl.loc[celllist]*25\n",
    "    somaloc_dist_mat = cdist(df_somaloc.values,df_somaloc.values,metric='euclidean')\n",
    "    df_somaloc_dist_mat = pd.DataFrame(somaloc_dist_mat, index=celllist, columns=celllist)\n",
    "    \n",
    "    \n",
    "    diag_idx = [x*len(celllist)+x for x in range(len(celllist))]\n",
    "    df_somaloc_dist_mat_remove_diag=np.delete(df_somaloc_dist_mat.values.flatten(),diag_idx)\n",
    "\n",
    "    '''Histogram of each dist/similarity map'''\n",
    "    ax.hist(df_somaloc_dist_mat_remove_diag,bins=np.histogram_bin_edges(df_somaloc_dist_mat_remove_diag,bins='auto'),color=np.array(lutnametorgb.get(ct))/255.0,density=False,label=ct)\n",
    "    ax.spines['right'].set_visible(False)\n",
    "    ax.spines['top'].set_visible(False)\n",
    "    plt.xticks(rotation=270,horizontalalignment='center')\n",
    "    plt.yticks(rotation=270,verticalalignment='center')\n",
    "    plt.ylabel('count',rotation=270,verticalalignment='top',fontsize=11)\n",
    "    plt.xlabel('distance',fontsize=11)\n",
    "    # plt.legend()\n",
    "    \n",
    "# fig.savefig(f'./fig4/flipped/three_somaloc_dist.png', dpi=250, bbox_inches='tight',facecolor='w')\n",
    "fig.show()\n"
   ]
  },
  {
   "cell_type": "code",
   "execution_count": null,
   "id": "8307e652-efd3-4808-9cc2-bdd4349586b8",
   "metadata": {},
   "outputs": [],
   "source": []
  },
  {
   "cell_type": "code",
   "execution_count": null,
   "id": "1074213e-fef1-4d12-a3d3-889a1bfc1211",
   "metadata": {
    "tags": []
   },
   "outputs": [],
   "source": []
  },
  {
   "cell_type": "code",
   "execution_count": null,
   "id": "d168b760-3dee-4613-97de-1b98e7915a2a",
   "metadata": {},
   "outputs": [],
   "source": []
  },
  {
   "cell_type": "code",
   "execution_count": null,
   "id": "f25eb82d-1dc1-4cdc-a2a4-e9754f16ad53",
   "metadata": {},
   "outputs": [],
   "source": []
  }
 ],
 "metadata": {
  "kernelspec": {
   "display_name": "Python 3",
   "language": "python",
   "name": "python3"
  },
  "language_info": {
   "codemirror_mode": {
    "name": "ipython",
    "version": 3
   },
   "file_extension": ".py",
   "mimetype": "text/x-python",
   "name": "python",
   "nbconvert_exporter": "python",
   "pygments_lexer": "ipython3",
   "version": "3.6.13"
  }
 },
 "nbformat": 4,
 "nbformat_minor": 5
}
